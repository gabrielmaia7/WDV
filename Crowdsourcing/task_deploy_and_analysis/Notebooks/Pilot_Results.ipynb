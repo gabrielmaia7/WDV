{
 "cells": [
  {
   "cell_type": "code",
   "execution_count": 1,
   "metadata": {},
   "outputs": [],
   "source": [
    "import mturk\n",
    "import random\n",
    "from datetime import datetime\n",
    "import json\n",
    "from pprint import pprint\n",
    "import copy\n",
    "import numpy as np\n",
    "from collections import OrderedDict\n",
    "import pandas as pd\n",
    "import pymongo\n",
    "import botocore\n",
    "import uuid\n",
    "import pdb\n",
    "import seaborn as sns\n",
    "import matplotlib.pyplot as plt\n",
    "import pingouin as pg\n",
    "import krippendorff_alpha as ka"
   ]
  },
  {
   "cell_type": "code",
   "execution_count": 2,
   "metadata": {},
   "outputs": [],
   "source": [
    "with open('./config/mongodb_credentials.json','r') as f:\n",
    "    mongodb_credentials = json.load(f)"
   ]
  },
  {
   "cell_type": "code",
   "execution_count": 3,
   "metadata": {},
   "outputs": [
    {
     "data": {
      "text/plain": [
       "Collection(Database(MongoClient(host=['cluster0-shard-00-02.hjstc.mongodb.net:27017', 'cluster0-shard-00-00.hjstc.mongodb.net:27017', 'cluster0-shard-00-01.hjstc.mongodb.net:27017'], document_class=dict, tz_aware=False, connect=True, retrywrites=True, w='majority', authsource='admin', replicaset='Cluster0-shard-0', ssl=True), 'verbalisations'), 'hit_results_pilots')"
      ]
     },
     "execution_count": 3,
     "metadata": {},
     "output_type": "execute_result"
    }
   ],
   "source": [
    "\"\"\" Connect to MTurk and to the Mongodb database. Set the boolean below to TRUE to use the marketplace and to FALSE to use the sandbox (testing the HITs)\"\"\"\n",
    "create_hits_in_production = True\n",
    "is_pilot = True\n",
    "\n",
    "db_client = pymongo.MongoClient(mongodb_credentials[\"connection_string\"])\n",
    "db = db_client['verbalisations']\n",
    "\n",
    "collection_name = 'hit_results' + ('_sandbox' if not create_hits_in_production else '') + ('_pilots' if is_pilot else '')\n",
    "\n",
    "hit_result_collection = db[collection_name]\n",
    "hit_result_collection"
   ]
  },
  {
   "cell_type": "markdown",
   "metadata": {},
   "source": [
    "# Analysing Pilot results\n",
    "\n",
    "Remember to reward good feedback"
   ]
  },
  {
   "cell_type": "markdown",
   "metadata": {},
   "source": [
    "- Roberta: Since the nature of your task can be confusing, **add more examples so that we have something to look upon when we’re stuck on something difficult**, **provide an accessible link that we can open in another tab and take a look at if and when necessary and compare the sentences with the ones from the real task**. It would be great if you could **stick with just English language** but I’m not sure what are you trying to prove here, maybe you need the foreign languages to prove your point, you got the last word about it."
   ]
  },
  {
   "cell_type": "code",
   "execution_count": 4,
   "metadata": {
    "scrolled": true
   },
   "outputs": [
    {
     "name": "stdout",
     "output_type": "stream",
     "text": [
      "[{'_id': 'd2ba6b1d-c4ea-4648-af1f-6a1d4daa8c9b',\n",
      "  'count': 15,\n",
      "  'ids': ['3SA4EMRVKYE8W1SFOJGOI01CPQE0PW',\n",
      "          '36818Z1KW6PXQPLAINGAU3AOTGY3AE',\n",
      "          '3HEA4ZVWWGY3YYWX1ADM1PSMFYO550',\n",
      "          '3I7SHAD36P8GT9VMH295GBH4SZ97M7',\n",
      "          '3BAWBGQGZOBZJWPVVUAW370HJSKV7B',\n",
      "          '3G3AJKPCYO4J432HY7Z97UK1A7WY43',\n",
      "          '3RBI0I35YHFYM7JDYTUQXPSVW70Y3I',\n",
      "          '3CMIQF80HQ2OAOF9QLBUR61D7PLQ6D',\n",
      "          '3PMR2DOWPRDL2FSXN5UCWXM8F2T54V',\n",
      "          '30U1YOGZHD8Z8D91SC8DSCQ66ZTSDW',\n",
      "          '3LCXHSGDMWI40JN1O7JXYU8R6BUSEP',\n",
      "          '3VO4XFFP28Y7EOTE9VGMXK19205Q7C',\n",
      "          '3D4BBDG70K8LJ4I821C10Y0CTJJ3CG',\n",
      "          '3S8A4GJRE6FGFWBQCK54XT0LOH0V6C',\n",
      "          '36FQTHX306329ZQ2O1G6PEUUBYJ3B9'],\n",
      "  'reward': 1.0,\n",
      "  'scale': None,\n",
      "  'timestamp': datetime.datetime(2021, 8, 5, 17, 43, 40, 324000),\n",
      "  'type': 'adequacy'},\n",
      " {'_id': '265c1c45-a816-4830-90c8-f0cbfbdeddcc',\n",
      "  'count': 15,\n",
      "  'ids': ['3BCRDCM0PG62ZLHEDGRXVKP49Y8K6P',\n",
      "          '3HEM8MA6ICOWKUXE5HA3X6SU39QPQS',\n",
      "          '3MVY4USGC9ZGGOPNKQ9OJ96JZJGSI8',\n",
      "          '3VCK0Q0PP8Q8TGG2843WEBWHQQRN0W',\n",
      "          '3GONHBMNIYAZDJ1S0X1O7VA3370MZN',\n",
      "          '3B0MCRZMCU6BKIWZ54VEX12KYD4PP1',\n",
      "          '3XU80RHWI2S36WOX90B2R5GUGLD44Z',\n",
      "          '3H5TOKO3ECVHLJSBSO4HO308CCJ46K',\n",
      "          '3YOAVL4CB3TJ9TCMUT1SL1T3HGFZ45',\n",
      "          '3P0I4CQYW1JJJRHZ2QWU0V5QH5BWOM',\n",
      "          '3M93N4X8INZCBZ9T28UOVALJCY5SJK',\n",
      "          '3QGTX7BCISE15CGM8YK2QTZHHCAZ5A',\n",
      "          '307FVKVSZUR0PJ6GBY99UH047N347J',\n",
      "          '39WICJI5BW4YRXTIUFW9BW1X3GJZ3K',\n",
      "          '3PMR2DOWPRDL2FSXN5UCWXM8GH8454'],\n",
      "  'reward': 0.5,\n",
      "  'scale': None,\n",
      "  'timestamp': datetime.datetime(2021, 8, 13, 18, 45, 44, 910000),\n",
      "  'type': 'fluency'},\n",
      " {'_id': '4a617a3a-2792-4cf4-8798-12f542dcd84b',\n",
      "  'count': 15,\n",
      "  'ids': ['38XPGNCKIWC2097CTWCP0VG7SQUV4R',\n",
      "          '3UEDKCTPAY2L3LVJWQWP1YP03UE7K2',\n",
      "          '3K3G488TS5KSRKFVL21PZ0NDBUAQ5X',\n",
      "          '3VZYA8PIURA43RAW447AKUWVYQD50F',\n",
      "          '3ULIZ0H1WDH4AGVE0NBAYZF53IJ51I',\n",
      "          '3L21G7IH5A82C45YBPG79WDYYNMY1Q',\n",
      "          '37MQ8Z1JRH891PNUUTGLEFN3QT0Y27',\n",
      "          '3ZXNP4Z3AUXWNRD1HQ8QGY2FSUJ7L5',\n",
      "          '3O71U79SSE12C7FE557GB2D0FDLMS8',\n",
      "          '304QEQWK0SWQB1GE9J39T0WMFLI0OF',\n",
      "          '3VCK0Q0PP8Q8TGG2843WEBWHPBD0N0',\n",
      "          '30P8I9JKPLXKWSBC71VZ5NMLSMPV5W',\n",
      "          '3G57RS03IKHBZ1DAJRBO3IPAVOX52Z',\n",
      "          '3Z8UJEJOD2PJL6B5QH2AY8Z4NYG39Z',\n",
      "          '30UZJB2PPKO0KJ9TNRPTMSU212X53A'],\n",
      "  'reward': 0.5,\n",
      "  'scale': None,\n",
      "  'timestamp': datetime.datetime(2021, 8, 5, 17, 43, 18, 677000),\n",
      "  'type': 'fluency'},\n",
      " {'_id': '30aafea2-d17b-438c-a646-302286f4cb68',\n",
      "  'count': 15,\n",
      "  'ids': ['3PEG1BH7BH385XY9978560BWNZJKBA',\n",
      "          '3Z56AA6EL7CXP9HHYS4DAXH8Y346MH',\n",
      "          '3PUOXASB6AFK6ZIYBOXJ294J38TZ91',\n",
      "          '311HQEI8SVSGSGU5WRZZODDD8I5Z7P',\n",
      "          '3O0M2G5VD9E432U9QV7T8DRA2DR49V',\n",
      "          '31GN6YMHMS4YHJ9S97D3K0FREUEWSJ',\n",
      "          '33NOQL7TARBKSUZO6WR52D98J2BZ8C',\n",
      "          '32FESTC2OK25IYVRHL82N7QC7BHUCO',\n",
      "          '3MG8450X3RMOCN4VMQU877PJ6UWPUX',\n",
      "          '3GV1I4SEPC1DJRZWYG3YAK2JYYE6LF',\n",
      "          '3R0WOCG22PLFNQ15HH3D7D8USBTUDO',\n",
      "          '3X0EMNLXFS1OP2TVRG4D3TR2K15PVM',\n",
      "          '32CXT5U15JF36V5E09SXLLUTHKWU8I',\n",
      "          '3PZDSVZ3K8TPS4Y3R5QYQEMU727N4C',\n",
      "          '3P7RGTLO7HP3MNTH3T89BPRQ5HYKAF'],\n",
      "  'reward': 1.0,\n",
      "  'scale': None,\n",
      "  'timestamp': datetime.datetime(2021, 8, 13, 18, 46, 30, 798000),\n",
      "  'type': 'adequacy'}]\n"
     ]
    }
   ],
   "source": [
    "from pprint import pprint\n",
    "batch_pipeline = [\n",
    "    {\n",
    "        '$project': {\n",
    "            'batch_id': 1, \n",
    "            'type': 1, \n",
    "            'scale': 1, \n",
    "            'hit': 1, \n",
    "            'timestamp': 1\n",
    "        }\n",
    "    }, {\n",
    "        '$group': {\n",
    "            '_id': '$batch_id', \n",
    "            'type': {\n",
    "                '$max': '$type'\n",
    "            }, \n",
    "            'scale': {\n",
    "                '$max': '$scale'\n",
    "            }, \n",
    "            'timestamp': {\n",
    "                '$min': '$timestamp'\n",
    "            }, \n",
    "            'ids': {\n",
    "                '$addToSet': '$_id'\n",
    "            }, \n",
    "            'reward': {\n",
    "                '$avg': {\n",
    "                    '$toDouble': '$hit.Reward'\n",
    "                }\n",
    "            }\n",
    "        }\n",
    "    }, {\n",
    "        '$addFields': {\n",
    "            'count': {\n",
    "                '$size': '$ids'\n",
    "            }\n",
    "        }\n",
    "    }\n",
    "]\n",
    "pprint(list(hit_result_collection.aggregate(batch_pipeline)))"
   ]
  },
  {
   "cell_type": "markdown",
   "metadata": {},
   "source": [
    "### Batch ids\n",
    "\n",
    "#### First run\n",
    "\n",
    "30 tasks, 15 fluench and 15 adequacy, analysing a total of 58 non-gd and 6 gd verbalisations, 5 hits each.\n",
    "\n",
    "Fluency batch id: 4a617a3a-2792-4cf4-8798-12f542dcd84b\n",
    "    \n",
    "Adequacy batch id: d2ba6b1d-c4ea-4648-af1f-6a1d4daa8c9b\n",
    "\n",
    "#### Second run\n",
    "\n",
    "30 tasks, 15 fluench and 15 adequacy, analysing a total of 58 non-gd and **16** gd verbalisations, 5 hits each. (We have added 10 gold standard questions with very bad to bad (levels 0-3) fluency and bad adequacy (No or Not Sure).\n",
    "\n",
    "Fluency batch id: 265c1c45-a816-4830-90c8-f0cbfbdeddcc\n",
    "    \n",
    "Adequacy batch id: 30aafea2-d17b-438c-a646-302286f4cb68"
   ]
  },
  {
   "cell_type": "code",
   "execution_count": 5,
   "metadata": {},
   "outputs": [
    {
     "data": {
      "text/plain": [
       "(30, 30)"
      ]
     },
     "execution_count": 5,
     "metadata": {},
     "output_type": "execute_result"
    }
   ],
   "source": [
    "pilot_flu = list(hit_result_collection.find(\n",
    "    {'type':'fluency', 'batch_id' : {\n",
    "        '$in' : ['265c1c45-a816-4830-90c8-f0cbfbdeddcc', '4a617a3a-2792-4cf4-8798-12f542dcd84b']\n",
    "    }}))\n",
    "pilot_ade = list(hit_result_collection.find(\n",
    "    {'type':'adequacy', 'batch_id' : {\n",
    "        '$in' : ['30aafea2-d17b-438c-a646-302286f4cb68', 'd2ba6b1d-c4ea-4648-af1f-6a1d4daa8c9b']\n",
    "    }}))\n",
    "len(pilot_flu), len(pilot_ade)"
   ]
  },
  {
   "cell_type": "markdown",
   "metadata": {},
   "source": [
    "### Other Adequacy reasons"
   ]
  },
  {
   "cell_type": "code",
   "execution_count": 6,
   "metadata": {},
   "outputs": [],
   "source": [
    "reason_no_other = []\n",
    "reason_not_sure_other = []\n",
    "for hit in pilot_ade:\n",
    "    for answer in hit['answers']:\n",
    "        for output in answer['values']['outputs']:\n",
    "            if output['reason_no_other'] != '':\n",
    "                reason_no_other.append(output['reason_no_other'])\n",
    "            if output['reason_not_sure_other'] != '':\n",
    "                reason_not_sure_other.append(output['reason_not_sure_other'])"
   ]
  },
  {
   "cell_type": "code",
   "execution_count": 7,
   "metadata": {},
   "outputs": [
    {
     "data": {
      "text/plain": [
       "['Cause of the \"North American\" in the triple.',\n",
       " 'It matches according to the triple, but adding \"(mountain)\" and \"(theatre company)\" in the actual sentence after the names would help clarify a ton.',\n",
       " \"Because Shizuka is a child, but the triple is saying Kozue is the child (since she's the object.)\",\n",
       " \"The years don't match up from the object and the cathedral isn't mentioned by name at all.\",\n",
       " 'I think that the subject and the object in the triple are swapped.']"
      ]
     },
     "execution_count": 7,
     "metadata": {},
     "output_type": "execute_result"
    }
   ],
   "source": [
    "reason_no_other"
   ]
  },
  {
   "cell_type": "code",
   "execution_count": 8,
   "metadata": {},
   "outputs": [
    {
     "data": {
      "text/plain": [
       "[\"the subject doesn't seem to be using an object that explains it and the sentence is both grammatically incorrect and incoherent. \",\n",
       " \"It's not an actual sentence, it's something grabbed from a table of contents\"]"
      ]
     },
     "execution_count": 8,
     "metadata": {},
     "output_type": "execute_result"
    }
   ],
   "source": [
    "reason_not_sure_other"
   ]
  },
  {
   "cell_type": "markdown",
   "metadata": {},
   "source": [
    "### Completion time"
   ]
  },
  {
   "cell_type": "code",
   "execution_count": 9,
   "metadata": {},
   "outputs": [
    {
     "name": "stdout",
     "output_type": "stream",
     "text": [
      "193.5675133333333 seconds is the mean fluency time\n",
      "98.637 seconds is the median fluency time\n",
      "349.0253733333332 seconds is the mean adequacy time\n",
      "216.065 seconds is the median adequacy time\n"
     ]
    }
   ],
   "source": [
    "df_pilot_times = pd.DataFrame(columns=['type','time'])\n",
    "\n",
    "for hit in pilot_flu:\n",
    "    for answer in hit['answers']:\n",
    "        df_pilot_times = df_pilot_times.append({'type':'fluency', 'time': np.sum(answer['values']['times'])/1000}, ignore_index=True)\n",
    "\n",
    "print(df_pilot_times[df_pilot_times['type'] == 'fluency']['time'].mean(), 'seconds is the mean fluency time')\n",
    "print(df_pilot_times[df_pilot_times['type'] == 'fluency']['time'].median(), 'seconds is the median fluency time')\n",
    "\n",
    "for hit in pilot_ade:\n",
    "    for answer in hit['answers']:  \n",
    "        df_pilot_times = df_pilot_times.append({'type':'adequacy', 'time': np.sum(answer['values']['times'])/1000}, ignore_index=True)\n",
    "\n",
    "\n",
    "print(df_pilot_times[df_pilot_times['type'] == 'adequacy']['time'].mean(), 'seconds is the mean adequacy time')\n",
    "print(df_pilot_times[df_pilot_times['type'] == 'adequacy']['time'].median(), 'seconds is the median adequacy time')"
   ]
  },
  {
   "cell_type": "code",
   "execution_count": 10,
   "metadata": {},
   "outputs": [
    {
     "name": "stdout",
     "output_type": "stream",
     "text": [
      "Fluency: 0.19864395833333331\n",
      "Adequacy: 0.4351309027777778\n"
     ]
    }
   ],
   "source": [
    "# According to median values, pay should be\n",
    "MINIMUM_HOURLY_USD_WAGE = 7.25\n",
    "# Fluency\n",
    "AVG_HIT_TIME_SECONDS = df_pilot_times[df_pilot_times['type'] == 'fluency']['time'].median()\n",
    "AVG_HIT_TIME_HOURS = AVG_HIT_TIME_SECONDS/3600\n",
    "print('Fluency:', AVG_HIT_TIME_HOURS*MINIMUM_HOURLY_USD_WAGE)\n",
    "# Adequacy\n",
    "AVG_HIT_TIME_SECONDS = df_pilot_times[df_pilot_times['type'] == 'adequacy']['time'].median()\n",
    "AVG_HIT_TIME_HOURS = AVG_HIT_TIME_SECONDS/3600\n",
    "print('Adequacy:', AVG_HIT_TIME_HOURS*MINIMUM_HOURLY_USD_WAGE)\n",
    "\n",
    "# I have then decided to pay 0.50 for Fluency and 1.00 for Adequacy, which is above minimum wage."
   ]
  },
  {
   "cell_type": "code",
   "execution_count": 11,
   "metadata": {},
   "outputs": [
    {
     "data": {
      "text/html": [
       "<div>\n",
       "<style scoped>\n",
       "    .dataframe tbody tr th:only-of-type {\n",
       "        vertical-align: middle;\n",
       "    }\n",
       "\n",
       "    .dataframe tbody tr th {\n",
       "        vertical-align: top;\n",
       "    }\n",
       "\n",
       "    .dataframe thead th {\n",
       "        text-align: right;\n",
       "    }\n",
       "</style>\n",
       "<table border=\"1\" class=\"dataframe\">\n",
       "  <thead>\n",
       "    <tr style=\"text-align: right;\">\n",
       "      <th></th>\n",
       "      <th>type</th>\n",
       "      <th>time</th>\n",
       "    </tr>\n",
       "  </thead>\n",
       "  <tbody>\n",
       "    <tr>\n",
       "      <th>156</th>\n",
       "      <td>adequacy</td>\n",
       "      <td>17.372</td>\n",
       "    </tr>\n",
       "    <tr>\n",
       "      <th>21</th>\n",
       "      <td>fluency</td>\n",
       "      <td>20.732</td>\n",
       "    </tr>\n",
       "    <tr>\n",
       "      <th>50</th>\n",
       "      <td>fluency</td>\n",
       "      <td>22.973</td>\n",
       "    </tr>\n",
       "    <tr>\n",
       "      <th>178</th>\n",
       "      <td>adequacy</td>\n",
       "      <td>25.207</td>\n",
       "    </tr>\n",
       "    <tr>\n",
       "      <th>3</th>\n",
       "      <td>fluency</td>\n",
       "      <td>27.079</td>\n",
       "    </tr>\n",
       "    <tr>\n",
       "      <th>...</th>\n",
       "      <td>...</td>\n",
       "      <td>...</td>\n",
       "    </tr>\n",
       "    <tr>\n",
       "      <th>78</th>\n",
       "      <td>fluency</td>\n",
       "      <td>2293.485</td>\n",
       "    </tr>\n",
       "    <tr>\n",
       "      <th>260</th>\n",
       "      <td>adequacy</td>\n",
       "      <td>2410.744</td>\n",
       "    </tr>\n",
       "    <tr>\n",
       "      <th>269</th>\n",
       "      <td>adequacy</td>\n",
       "      <td>2502.854</td>\n",
       "    </tr>\n",
       "    <tr>\n",
       "      <th>148</th>\n",
       "      <td>fluency</td>\n",
       "      <td>2685.014</td>\n",
       "    </tr>\n",
       "    <tr>\n",
       "      <th>83</th>\n",
       "      <td>fluency</td>\n",
       "      <td>3338.944</td>\n",
       "    </tr>\n",
       "  </tbody>\n",
       "</table>\n",
       "<p>300 rows × 2 columns</p>\n",
       "</div>"
      ],
      "text/plain": [
       "         type      time\n",
       "156  adequacy    17.372\n",
       "21    fluency    20.732\n",
       "50    fluency    22.973\n",
       "178  adequacy    25.207\n",
       "3     fluency    27.079\n",
       "..        ...       ...\n",
       "78    fluency  2293.485\n",
       "260  adequacy  2410.744\n",
       "269  adequacy  2502.854\n",
       "148   fluency  2685.014\n",
       "83    fluency  3338.944\n",
       "\n",
       "[300 rows x 2 columns]"
      ]
     },
     "execution_count": 11,
     "metadata": {},
     "output_type": "execute_result"
    }
   ],
   "source": [
    "df_pilot_times.sort_values('time')#.head(100)"
   ]
  },
  {
   "cell_type": "code",
   "execution_count": 12,
   "metadata": {},
   "outputs": [
    {
     "data": {
      "image/png": "[encoded data removed]",
      "text/plain": [
       "<Figure size 432x288 with 1 Axes>"
      ]
     },
     "metadata": {
      "needs_background": "light"
     },
     "output_type": "display_data"
    }
   ],
   "source": [
    "g = sns.boxplot(data = df_pilot_times, x='time', y='type')\n",
    "g.set_xscale(\"linear\")"
   ]
  },
  {
   "cell_type": "markdown",
   "metadata": {},
   "source": [
    "### Feedback"
   ]
  },
  {
   "cell_type": "code",
   "execution_count": 13,
   "metadata": {
    "scrolled": true
   },
   "outputs": [
    {
     "name": "stdout",
     "output_type": "stream",
     "text": [
      "3UEDKCTPAY2L3LVJWQWP1YP03UE7K2\n",
      "A3BHKF9NJKCXPB - Very informative - 3Y5140Z9D1SMQG7PIBAWDOX0BORPIC\n",
      "-----\n",
      "\n",
      "\n",
      "3ZXNP4Z3AUXWNRD1HQ8QGY2FSUJ7L5\n",
      "A2BNQ8VAMP3ZYO - no - 3I7DHKZYGRCYNFNGXOVXCLFR4W4F5V\n",
      "A10NBQP7W50X1I - Nice - 386CSBG1O3YRX8D3GNGWGQX57TDQ65\n",
      "A1AWR7C38PW42P - Very interesting - 39N5ACM9HIZTFFEMEH4J0VYXSY9P9Y\n",
      "A3MG9XS4W3FGOA - nice - 39GXDJN2OXQ66US8V1746RS4UGQV8Y\n",
      "-----\n",
      "\n",
      "\n",
      "3O71U79SSE12C7FE557GB2D0FDLMS8\n",
      "-----\n",
      "\n",
      "\n",
      "38XPGNCKIWC2097CTWCP0VG7SQUV4R\n",
      "A2LGYV57X9WMCD - very interesting - 3WLEIWSYHSTQ2EVZAVHZHZOS01H2H6\n",
      "A2BR2FSQ3O82TL - very interesting - 3KGTPGBS61XV701JAUOY0EDIUAU2UK\n",
      "-----\n",
      "\n",
      "\n",
      "3VZYA8PIURA43RAW447AKUWVYQD50F\n",
      "A3NTNVS05946M0 - Nice - 37QW5D2ZRKYQE2B4162ZV48XVCPS8J\n",
      "A3Q9UK9RCL87O8 - Nice - 3A1COHJ8NN71OTXOQCQ0RQ1VM1E8HK\n",
      "-----\n",
      "\n",
      "\n",
      "3K3G488TS5KSRKFVL21PZ0NDBUAQ5X\n",
      "AIIN7IRYDQ0QE - GOOD SURVEY - 3KRVW3HTZRX5ZRD8V7CI0M9SFHCSM5\n",
      "A3KOWY3F88WP94 - very nice - 3AUQQEL7U95OO5N50XUPDCMMBJK0VO\n",
      "A9LXSGXZM4IJE - Nice - 3GGAI1SQEZAPSAOCYLMILH5ATEQMC5\n",
      "-----\n",
      "\n",
      "\n",
      "3ULIZ0H1WDH4AGVE0NBAYZF53IJ51I\n",
      "A1QEUI0J88TO78 - good - 3QILPRALQ97TYPJZTALDWAYR8DE8NK\n",
      "A1BAT5O7WVAFPW - nice - 30IQTZXKAOIGSUS00CV71XJ7RU70X6\n",
      "-----\n",
      "\n",
      "\n",
      "30P8I9JKPLXKWSBC71VZ5NMLSMPV5W\n",
      "A1ZQUQZJI6HN0D - More interesting - 3P529IW9K2XCP4Q1PBB4TABOQM1LFM\n",
      "A32KY6ARWL8W3E - very interesting - 3TXMY6UCAI0GDPM4QETZ2QPF3G2CQZ\n",
      "-----\n",
      "\n",
      "\n",
      "3Z8UJEJOD2PJL6B5QH2AY8Z4NYG39Z\n",
      "A288NRHQNCYYX9 - Well. - 3AMW0RGHOHEE4HIGFRNOIWTHXNEPNL\n",
      "-----\n",
      "\n",
      "\n",
      "3VCK0Q0PP8Q8TGG2843WEBWHPBD0N0\n",
      "AXY0D2AMLKE2A - thanks a lot, stay safe - 3OS4RQUCRDR0CV4PYYMAF7FJESEFBK\n",
      "A2CHDWKAYZ3P3E - NA - 354P56DE9OFMEO6LR1ATH4C2KTAS7P\n",
      "A3R4SD33QQVAJX - Nice - 3WQQ9FUS6E6RXGU2QKG45FYXRPW8BT\n",
      "-----\n",
      "\n",
      "\n",
      "3L21G7IH5A82C45YBPG79WDYYNMY1Q\n",
      "A3AJE1ORZMFDON - Very useful - 3JC6VJ2SAFV3RO68M895YK407GM5A3\n",
      "-----\n",
      "\n",
      "\n",
      "304QEQWK0SWQB1GE9J39T0WMFLI0OF\n",
      "A34A8A4MZ1V53Y - interesting - 3NJM2BJS40IVDDLPQ1EA2LZ5YJ1CPR\n",
      "ASBVFTDEA883R - Very nice - 3DUZQ9U6SQ0OPE7H9ZD9NIS56AVVSW\n",
      "AHXHM1PQTRWIQ - Pretty interesting and quick task. I would be interested working on further tasks if they are available. Thanks for giving me a chance to work on it. - 3OVHNO1VEADZW9T9D67NDPJ1TJ0DZV\n",
      "-----\n",
      "\n",
      "\n",
      "3G57RS03IKHBZ1DAJRBO3IPAVOX52Z\n",
      "A1N1ULK71RHVMM - This was an easy and well laid out test. I only recommend having the scale more visible as choosing so that it's not only after we choose a level that we see the value. - 3IRIK4HM3EWN373KB5F1WL8O3EC6CG\n",
      "A1KL6MRIHQFJND - Very interesting - 3JZQSN0I3UMW3CC0EKEOGI6GU5EGFA\n",
      "-----\n",
      "\n",
      "\n",
      "37MQ8Z1JRH891PNUUTGLEFN3QT0Y27\n",
      "A354IONQNVAG91 - ITS VERY USEFUL - 34Z02EIMIWP9BDJGV2UACUY1EXO0TQ\n",
      "-----\n",
      "\n",
      "\n",
      "30UZJB2PPKO0KJ9TNRPTMSU212X53A\n",
      "A31Y7PAMZO5GVZ - Nice - 31Z0PCVWUORNTOJ0G1FJR98OMCNT7E\n",
      "-----\n",
      "\n",
      "\n",
      "39WICJI5BW4YRXTIUFW9BW1X3GJZ3K\n",
      "A17AF42SNQNH9C - I was familiar with many of the foreign words, but like you said I based my ratings on fluency and not whether or not something was factual or not. Have a nice weekend!! - 3KYQYYSHYZJNX5F2BXW6XRCX9B2DOQ\n",
      "-----\n",
      "\n",
      "\n",
      "3XU80RHWI2S36WOX90B2R5GUGLD44Z\n",
      "A9NJY3Z6QGW3U - it was good - 3U8YCDAGXTSWJXROEY0F7PNEUO0Q09\n",
      "A3Q9UK9RCL87O8 - Nice - 3FTYUGLFSYX1PV9K6I07OLC6SHGD56\n",
      "-----\n",
      "\n",
      "\n",
      "3BCRDCM0PG62ZLHEDGRXVKP49Y8K6P\n",
      "A3NTNVS05946M0 - Nice - 3VNL7UK1XJV08HY6YKDVF1L5KYSFTM\n",
      "A1AWR7C38PW42P - nice - 345LHZDED14KSIX2EU23JOIA0MWU3L\n",
      "A3R4SD33QQVAJX - Nice - 3137ONMDKKH4XYC4J9UIY0LGI39GE0\n",
      "-----\n",
      "\n",
      "\n",
      "3GONHBMNIYAZDJ1S0X1O7VA3370MZN\n",
      "A1F9KLZGHE9DTA - No problems!  It might have been nice to show the numbers on the slider itself. - 3DQQ64TANKX4RBRU7SEBEF68QW4PWS\n",
      "A10NBQP7W50X1I - Nice - 3TXWC2NHN32QS7UE6Y8DV038FHJS9I\n",
      "-----\n",
      "\n",
      "\n",
      "3B0MCRZMCU6BKIWZ54VEX12KYD4PP1\n",
      "A3KOWY3F88WP94 - Interesting - 3M0BCWMB8Z82NHQKONWAJV1J9UIBWQ\n",
      "ASBVFTDEA883R - very nice and more informative - 3X4JMASXCQL9FRPZVG3PC0SF8O20BA\n",
      "A2BR2FSQ3O82TL - Nice - 3T111IHZ5I2ERSU1R9885QYCTEZ9R8\n",
      "-----\n",
      "\n",
      "\n",
      "3YOAVL4CB3TJ9TCMUT1SL1T3HGFZ45\n",
      "AVY62HKZ2A3XR - GOOD STUDY - 3M81GAB8A4VX3KUYCEX4R6JXLRHBQY\n",
      "A3BHKF9NJKCXPB - Nice - 3PM8NZGV82S4GNXZHAPMG3AP4WRXQJ\n",
      "-----\n",
      "\n",
      "\n",
      "3PMR2DOWPRDL2FSXN5UCWXM8GH8454\n",
      "A1FQK51ECARQNK - The guidelines in this task were presented very clearly and the examples given provided a helpful and valuable guide. - 33F859I56APKQRVVTOAAISRWU4MHB9\n",
      "A31Y7PAMZO5GVZ - Nice - 3R08VXYT7G7FL5NUB6KUETFNQ3GW7C\n",
      "A3AJE1ORZMFDON - Nice - 3YDGXNSEO367CH9TB56HX1SRHV1845\n",
      "-----\n",
      "\n",
      "\n",
      "3MVY4USGC9ZGGOPNKQ9OJ96JZJGSI8\n",
      "AYYBMS4XQJ9AP - The amount of words in other languages may really confuse people when determining if the sentences are comprehensible. - 39GAF6DQWVCOVU8NWGYPRH5WG7WV1K\n",
      "A3MG9XS4W3FGOA - nice - 3EJJQNKU9VH76YCKPLW0I7W0CSBHRC\n",
      "-----\n",
      "\n",
      "\n",
      "3HEM8MA6ICOWKUXE5HA3X6SU39QPQS\n",
      "A2E8EKAN93ZJRY - The sentence that stated someone spent x amount of minutes in space should have either been written out in words or rounded to the nearest number. Other than that I feel somewhat confident with my answers. - 37U1UTWH9ZYEDNBRMH2U5U3198D8RE\n",
      "A26X8BQELDQSGH - The task was interesting and educative. - 3KXIR214I8SWQ274VOXGNAFOVV824V\n",
      "A9LXSGXZM4IJE - Nice - 3WQ3B2KGECS9MGAHRZ7PQ5BPDG8B1O\n",
      "-----\n",
      "\n",
      "\n",
      "3P0I4CQYW1JJJRHZ2QWU0V5QH5BWOM\n",
      "A3PX6V75SHQ4JP - GOOD - 3R2PKQ87N0KG5DACQVI4WK356GWMIN\n",
      "A1ZQUQZJI6HN0D - Nice - 3HRMW88U1A25YITWM5TYQG39KOAM0R\n",
      "-----\n",
      "\n",
      "\n",
      "3VCK0Q0PP8Q8TGG2843WEBWHQQRN0W\n",
      "A2LGYV57X9WMCD - very nice - 32N49TQG3KUKPILNSZRI2IYZK2PAVC\n",
      "A2U375YRJDHUIR - IT IS A GOOD SURVEY - 3R0T90IZ1WOP00SQNION8CLDXRYGC9\n",
      "-----\n",
      "\n",
      "\n",
      "3QGTX7BCISE15CGM8YK2QTZHHCAZ5A\n",
      "A2AS7EQIQADLSS - interesting - 3MHW492WW4PLRJUCP2HNB9TZEITVMU\n",
      "A3BHKF9NJKCXPB - Very useful - 3QIYRE09Y7TBNPZEUPCYH0BJU6O1N7\n",
      "-----\n",
      "\n",
      "\n",
      "3H5TOKO3ECVHLJSBSO4HO308CCJ46K\n",
      "-----\n",
      "\n",
      "\n",
      "307FVKVSZUR0PJ6GBY99UH047N347J\n",
      "A1KL6MRIHQFJND - Nice - 3NXNZ5RS1E9499AMIVA2097CS25797\n",
      "A2V84QVZRULWF1 - Nice - 3VFJCI1K43BT62H95FEIX7KZXSYRGN\n",
      "-----\n",
      "\n",
      "\n",
      "3M93N4X8INZCBZ9T28UOVALJCY5SJK\n",
      "A2G43KS55YGYQE - could be interesting with more variety - 3U8YCDAGXTSWJXROEY0F7PNEUNBQ0I\n",
      "A32KY6ARWL8W3E - nice - 3QY5DC2MXVWF8UDVYP35KX773C2UFV\n",
      "-----\n",
      "\n",
      "\n"
     ]
    }
   ],
   "source": [
    "from pprint import pprint\n",
    "for p in pilot_flu:\n",
    "    print(p['_id'])\n",
    "    for a in p['answers']:\n",
    "        if a['values']['feedback'] != None :\n",
    "            print(a['worker_id'], '-', a['values']['feedback'], '-', a['assignment_id'])\n",
    "    print('-----')\n",
    "    print('\\n')"
   ]
  },
  {
   "cell_type": "code",
   "execution_count": 14,
   "metadata": {
    "scrolled": true
   },
   "outputs": [
    {
     "name": "stdout",
     "output_type": "stream",
     "text": [
      "3RBI0I35YHFYM7JDYTUQXPSVW70Y3I\n",
      "A1KOBLL83SICGQ - Very interesting and educating study - 3BXQMRHWK3ALE45CKC7IFNRG0FPMU9\n",
      "-----\n",
      "\n",
      "\n",
      "3SA4EMRVKYE8W1SFOJGOI01CPQE0PW\n",
      "AIIN7IRYDQ0QE - GOOD SURVEY - 31QTRG6Q2XP8GGMUMTWZZCRO17JYPL\n",
      "ASBVFTDEA883R - very nice and more informative - 340UGXU9D2D44RZLY4892JATR8XVUV\n",
      "AA9Y4BEMJYWN1 - nice experiment I really enjoyed it. - 32Z9ZLUT1PW49LK4XTFWOCRV19XOHO\n",
      "-----\n",
      "\n",
      "\n",
      "3I7SHAD36P8GT9VMH295GBH4SZ97M7\n",
      "A2949EJ4EVG6LM - this task seems interesting to do - 3NC5L260MSYKVPTY23RWLRFILRYOFY\n",
      "A1BAT5O7WVAFPW - Very nice - 3180JW2OT8OESH9CGEMIRJ7JX5NJ58\n",
      "A3SLY0SJLJZ0J1 - good job - 3I0BTBYZA1X5SZIA58H9KBQGT2TY06\n",
      "-----\n",
      "\n",
      "\n",
      "3PMR2DOWPRDL2FSXN5UCWXM8F2T54V\n",
      "A3JV9OXFPCVOF1 - good - 34BBWHLWHENCAP4QUXOR5I5W4LPIWV\n",
      "A1J6B5XUULEITY - Thanks. - 3PPTZCWALUWTLIXEISD7DOQ0CYNZQK\n",
      "A3AJE1ORZMFDON - Very nice - 3MD9PLUKKMQ8ILKM20LQ9UVV7N0NZL\n",
      "A32KY6ARWL8W3E - nice - 3PZDLQMM0XXZL6KJO33Y68RCNAQ2CD\n",
      "-----\n",
      "\n",
      "\n",
      "3S8A4GJRE6FGFWBQCK54XT0LOH0V6C\n",
      "A1KL6MRIHQFJND - Nice - 3Z2R0DQ0JLQEI44XKU9TWWRF8LW2EX\n",
      "-----\n",
      "\n",
      "\n",
      "36818Z1KW6PXQPLAINGAU3AOTGY3AE\n",
      "A3NTNVS05946M0 - Nice - 32ZKVD547JZ5WJOWE3L8EYQMB3Q3BI\n",
      "A9LXSGXZM4IJE - Nice - 3YDTZAI2W1SP1HP8CKX2IR5J3RZ14M\n",
      "A2LGYV57X9WMCD - very nice - 3QILPRALQ97TYPJZTALDWAYR8E78NF\n",
      "-----\n",
      "\n",
      "\n",
      "30U1YOGZHD8Z8D91SC8DSCQ66ZTSDW\n",
      "A1CX45M5UVAM9R - Nice work, willing to do more. Thanks - 358UUM7WR3FAD968CCAORU76YQWR73\n",
      "A354IONQNVAG91 - ITS USEFUL TO ME - 3G0WWMR1UZWZ4TJVF42DI1JR2J0QND\n",
      "-----\n",
      "\n",
      "\n",
      "3CMIQF80HQ2OAOF9QLBUR61D7PLQ6D\n",
      "A3UHRU688LVGS0 - This task is very interesting - 3IXQG4FA2XARBLDCVCMI5BT8BUIB9N\n",
      "A1ZQUQZJI6HN0D - More interesting and very nice - 3XLBSAQ9Z8OJF0SZMT41DX9577RZ7G\n",
      "ABVPW8753ZBJO - this  experiment was very nice - 3DEL4X4ELAXDPPOL8K6GTPDR382XYM\n",
      "A171SF2UF7YUN4 - nice experiment I really enjoyed to do it. - 32M8BPYGAXYGD3EQFSK9JFJ8A0JIGM\n",
      "-----\n",
      "\n",
      "\n",
      "36FQTHX306329ZQ2O1G6PEUUBYJ3B9\n",
      "A3Q9UK9RCL87O8 - very nice - 33IZTU6J85DGT3CC9EERB3PQML8XS6\n",
      "A3KOWY3F88WP94 - very nice - 3NQL1CS15VKLL0JQ855Y54G6NWCVYX\n",
      "-----\n",
      "\n",
      "\n",
      "3LCXHSGDMWI40JN1O7JXYU8R6BUSEP\n",
      "A1AWR7C38PW42P - nice - 39ASUFLU61JFJK7U8JUMMMLBLV6EXV\n",
      "A3MG9XS4W3FGOA - nice - 3IAS3U3I0JSGB1SDA373VOLU5PQ2B6\n",
      "A2LQJPUNUO9Z7I - good - 30BXRYBRP89CEUT6OF66564H4A7WHH\n",
      "-----\n",
      "\n",
      "\n",
      "3VO4XFFP28Y7EOTE9VGMXK19205Q7C\n",
      "A1VDM1P0U2JR7H - Is awesome survey - 3WZ36BJEV7SAV0MQTIRZWBUK52RTBD\n",
      "A3QQD8CMGDUN8X - nice experiment. - 3SLE99ER0RP6HCVPZAGHIZV1Q0XZBN\n",
      "-----\n",
      "\n",
      "\n",
      "3HEA4ZVWWGY3YYWX1ADM1PSMFYO550\n",
      "A10NBQP7W50X1I - Nice - 3U0SRXB7CHHZGUYVSJRDNRTWY53RNG\n",
      "A19NBWK49ATXS - very interesting - 3MAOD8E57UMJDQK71IX5C9FKZO3NXR\n",
      "-----\n",
      "\n",
      "\n",
      "3D4BBDG70K8LJ4I821C10Y0CTJJ3CG\n",
      "A3BHKF9NJKCXPB - Very nice - 3HYA4D452VV6OI4TF5TZEECFKM72FB\n",
      "A2BR2FSQ3O82TL - nice - 3V0Z7YWSI2CVKFQJFKY3W0F18HA2VG\n",
      "A2V84QVZRULWF1 - nice - 3DY4FPOOA50COZ74UAD4X8N9KAJRVF\n",
      "-----\n",
      "\n",
      "\n",
      "3G3AJKPCYO4J432HY7Z97UK1A7WY43\n",
      "A49A0FF6ZXYDU - I tried my best, but more examples would have been helpful. - 3Z3ZLGNNSM6S0PQLXLIY9NLLX293QA\n",
      "A3R4SD33QQVAJX - Nice - 3VBEN272MOB57HHMK4ENNHPVJWSSGR\n",
      "A1AKL5YH9NLD2V - Was actually pretty fun. If this turns into a batch of HITs, I would love to work on them :) - 3HOSI13XH30WT8ODLOIQMX0Y514DDA\n",
      "-----\n",
      "\n",
      "\n",
      "3BAWBGQGZOBZJWPVVUAW370HJSKV7B\n",
      "A1BAT5O7WVAFPW - very nice - 33LK57MYLXH5YYCRAW2C8O51UMEZSF\n",
      "AOQIN4AGBL85L - Nice - 3B3WTRP3DFEXN8DGCJT74IQ4HQN29Y\n",
      "-----\n",
      "\n",
      "\n",
      "3O0M2G5VD9E432U9QV7T8DRA2DR49V\n",
      "A1FQK51ECARQNK - This was challenging but very well explained. I would suggest perhaps including a tip in the instructions that specifically addresses how to deal with grammatically incorrect sentences. - 34Z02EIMIWP9BDJGV2UACUY1EUB0T7\n",
      "-----\n",
      "\n",
      "\n",
      "32CXT5U15JF36V5E09SXLLUTHKWU8I\n",
      "A26GR4X783R1O9 - very interesting - 3P59JYT76PWG7NMUAPYOVIRGBUT2TV\n",
      "A1C3FAA4TBPIW8 - good to work - 3OVHNO1VEADZW9T9D67NDPJ1TH4ZDH\n",
      "A1KBR3K2TGYXJO - nice - 3T111IHZ5I2ERSU1R9885QYCTF9R92\n",
      "-----\n",
      "\n",
      "\n",
      "3MG8450X3RMOCN4VMQU877PJ6UWPUX\n",
      "A3UCYLG5K9Q6FM - good - 3PW9OPU9PUWFY3AL86EEPC8LJ9412J\n",
      "A3AUIYZ27TBTP9 - This was kind of fun! - 3QAPZX2QN8PFREP3CNAEB7PBEIN026\n",
      "-----\n",
      "\n",
      "\n",
      "3PZDSVZ3K8TPS4Y3R5QYQEMU727N4C\n",
      "A77EN6TMUN0ZM - NONE - 3LRKMWOKB9TCTZVTGHN6H6SXWOUZ2J\n",
      "A1RFECS63DTC3U - NA - 3U5JL4WY5OLXRIA1JDI9D09K8384X5\n",
      "-----\n",
      "\n",
      "\n",
      "311HQEI8SVSGSGU5WRZZODDD8I5Z7P\n",
      "AVY62HKZ2A3XR - NOTHING - 3PZDLQMM0XXZL6KJO33Y68RCN8SC2L\n",
      "A1ZPX497XKDVON - NICE - 3EFVCAY5L7LXFZSEECTL33HAZSTJ89\n",
      "-----\n",
      "\n",
      "\n",
      "3P7RGTLO7HP3MNTH3T89BPRQ5HYKAF\n",
      "A3I7ZBU31VKOMC - very interesting - 3Y5140Z9D1SMQG7PIBAWDOX0BMZPIG\n",
      "A1KBR3K2TGYXJO - nice - 3MYYFCXHJ7JM5WFBU3I5PE9P5EI4GL\n",
      "A1C3FAA4TBPIW8 - good - 3018Q3ZVOM2SWB46JFM81L9WZXRAR0\n",
      "-----\n",
      "\n",
      "\n",
      "33NOQL7TARBKSUZO6WR52D98J2BZ8C\n",
      "A1C3FAA4TBPIW8 - GOOD TO WORK - 3OVHNO1VEADZW9T9D67NDPJ1TH3DZU\n",
      "A1KBR3K2TGYXJO - NICE - 3L2IS5HSFEURWMQCWDMIS2GG53NNUU\n",
      "A1GCPUVJUJ27HT - good - 33IZTU6J85DGT3CC9EERB3PQMKYSXP\n",
      "-----\n",
      "\n",
      "\n",
      "32FESTC2OK25IYVRHL82N7QC7BHUCO\n",
      "-----\n",
      "\n",
      "\n",
      "31GN6YMHMS4YHJ9S97D3K0FREUEWSJ\n",
      "A1DIO8Q08OC01Q - Test was very informative and interesting. - 3XM0HYN6NOBAAB53MSK5S9Z8JS3PEG\n",
      "A7EP668Z0WF6G - I really enjoyed the work, call me whenever possible because I will do it with total dedication - 33L7PJKHCKART2OJQ67P594JXSMT8M\n",
      "-----\n",
      "\n",
      "\n",
      "3PEG1BH7BH385XY9978560BWNZJKBA\n",
      "A1GCPUVJUJ27HT - good - 3S06PH7KSVG21D815VYVLVZPG0T1DS\n",
      "A376RFEFI88BBA - good. - 3EFVCAY5L7LXFZSEECTL33HAZQW8JX\n",
      "A1XGHGHD0LCPXJ - THIS TASK IS VERY NICE AND HAVING VERY NICE EXPERIENCE. - 3IFS6Q0HJMVJ38NHASEQ8T2BY64SIX\n",
      "-----\n",
      "\n",
      "\n",
      "3GV1I4SEPC1DJRZWYG3YAK2JYYE6LF\n",
      "A1RQPZ7TUNISFM - good one - 3XM0HYN6NOBAAB53MSK5S9Z8JSDEPF\n",
      "AYHK8DTZONHKC - Great survey - 3QEMNNSB21BGCZN3UBF4M5Q2JOPD71\n",
      "-----\n",
      "\n",
      "\n",
      "3R0WOCG22PLFNQ15HH3D7D8USBTUDO\n",
      "A3MYPYBVHX7FQ2 - It took me longer than it normally would, to do this first HIT, because I needed to learn the job and to put extra thought into the questions. I think that I could learn to do these HITs relatively quickly, and with a high level of quality. I hope that my work met your expectations. Thank you for the HIT! - 3FDJT1UU78K931FUYZMUSY7WCPWK57\n",
      "-----\n",
      "\n",
      "\n",
      "3X0EMNLXFS1OP2TVRG4D3TR2K15PVM\n",
      "A3HQA6OP0FX6K3 - Interesting - 3I02618YA4IRZ72PCSZAWRLB5GUUPZ\n",
      "A37TJQC9A89D65 - GOOD - 3IAS3U3I0JSGB1SDA373VOLU5LZ2B7\n",
      "ADD4CIDYCKN66 - good - 3SBEHTYCWRFGZUZQ9Y6FQFQCFQ9YIO\n",
      "ANOZROK79VUIK - GOOD - 3Q8GYXHFETERK3366M5W4FUO7IEC5H\n",
      "-----\n",
      "\n",
      "\n",
      "3PUOXASB6AFK6ZIYBOXJ294J38TZ91\n",
      "AFKB7F09OVKV7 - Thank you for the email and getting back to me asap. I hope I did well enough to be able to do more of these! - 34X6J5FLPXA3L3SA06ALPU2ATWHQJP\n",
      "A3871Z55KN25W1 - good. - 3WQQ9FUS6E6RXGU2QKG45FYXRLNB8F\n",
      "A3I7ZBU31VKOMC - very interesting - 3L4PIM1GQXSTST29ZL0O47R32NUYRW\n",
      "ADD4CIDYCKN66 - good - 304SM51WA7G9G09B4IM9M6YY4IMBSE\n",
      "-----\n",
      "\n",
      "\n",
      "3Z56AA6EL7CXP9HHYS4DAXH8Y346MH\n",
      "A2UXG97EZX1WX8 - it is good - 34X6J5FLPXA3L3SA06ALPU2ATYDQJP\n",
      "A1KBR3K2TGYXJO - very interesting - 3KIBXJ1WD96VBBLC3EIT147NTM0KOF\n",
      "-----\n",
      "\n",
      "\n"
     ]
    }
   ],
   "source": [
    "from pprint import pprint\n",
    "for p in pilot_ade:\n",
    "    print(p['_id'])\n",
    "    for a in p['answers']:\n",
    "        if a['values']['feedback'] != None :\n",
    "            print(a['worker_id'], '-', a['values']['feedback'], '-', a['assignment_id'])\n",
    "    print('-----')\n",
    "    print('\\n')"
   ]
  },
  {
   "cell_type": "markdown",
   "metadata": {},
   "source": [
    "### Values"
   ]
  },
  {
   "cell_type": "code",
   "execution_count": 15,
   "metadata": {},
   "outputs": [],
   "source": [
    "from pprint import pprint\n",
    "\n",
    "pilot_flu_jsons = []\n",
    "for p in pilot_flu:\n",
    "    for a in p['answers']:\n",
    "        for i in range(6):\n",
    "            pilot_flu_jsons.append({\n",
    "                'claim_id': p['verbalisations'][i]['claim_id'],\n",
    "                'worker_id': a['worker_id'],\n",
    "                'fluency': a['values']['outputs'][i]['fluency']\n",
    "            })\n",
    "pilot_flu_df = pd.DataFrame(pilot_flu_jsons).sort_values('claim_id')\n",
    "\n",
    "pilot_ade_jsons = []\n",
    "for p in pilot_ade:\n",
    "    for a in p['answers']:\n",
    "        for i in range(6):\n",
    "            pilot_ade_jsons.append({\n",
    "                'claim_id': p['verbalisations'][i]['claim_id'],\n",
    "                'worker_id': a['worker_id'],\n",
    "                'adequacy': a['values']['outputs'][i]['adequacy']\n",
    "            })\n",
    "pilot_ade_df = pd.DataFrame(pilot_ade_jsons).sort_values('claim_id')"
   ]
  },
  {
   "cell_type": "code",
   "execution_count": 29,
   "metadata": {},
   "outputs": [
    {
     "data": {
      "text/plain": [
       "(181,)"
      ]
     },
     "execution_count": 29,
     "metadata": {},
     "output_type": "execute_result"
    }
   ],
   "source": [
    "pd.concat([pilot_flu_df.worker_id, pilot_ade_df.worker_id]).unique().shape"
   ]
  },
  {
   "cell_type": "code",
   "execution_count": 34,
   "metadata": {},
   "outputs": [
    {
     "data": {
      "text/plain": [
       "1800"
      ]
     },
     "execution_count": 34,
     "metadata": {},
     "output_type": "execute_result"
    }
   ],
   "source": [
    "pilot_flu_df.shape[0] + pilot_ade_df.shape[0]"
   ]
  },
  {
   "cell_type": "code",
   "execution_count": 12,
   "metadata": {},
   "outputs": [
    {
     "name": "stdout",
     "output_type": "stream",
     "text": [
      "Minimum mean fluency per worker: 1.8333333333333333\n",
      "maximum mean fluency per worker: 4.833333333333333\n"
     ]
    },
    {
     "data": {
      "image/png": "[encoded data removed]",
      "text/plain": [
       "<Figure size 720x360 with 1 Axes>"
      ]
     },
     "metadata": {
      "needs_background": "light"
     },
     "output_type": "display_data"
    }
   ],
   "source": [
    "fig, ax = plt.subplots(1,1,figsize=(10,5))\n",
    "\n",
    "perc = pilot_flu_df.fluency.value_counts(normalize=True).mul(100).rename('percent')\n",
    "g = sns.countplot(data=pilot_flu_df, x='fluency', ax=ax)\n",
    "for p in g.patches:\n",
    "    txt = str((p.get_height()/pilot_flu_df.shape[0]*100).round(2)) + '%'\n",
    "    txt_x = p.get_x() \n",
    "    txt_y = p.get_height()\n",
    "    g.text(txt_x,txt_y,txt)\n",
    "ax.set(xlabel = 'Simple fluency value histogram')\n",
    "\n",
    "print('Minimum mean fluency per worker:', pilot_flu_df.groupby('worker_id').mean()['fluency'].min())\n",
    "print('maximum mean fluency per worker:', pilot_flu_df.groupby('worker_id').mean()['fluency'].max())"
   ]
  },
  {
   "cell_type": "code",
   "execution_count": 13,
   "metadata": {},
   "outputs": [
    {
     "data": {
      "text/plain": [
       "<AxesSubplot:xlabel='fluency'>"
      ]
     },
     "execution_count": 13,
     "metadata": {},
     "output_type": "execute_result"
    },
    {
     "data": {
      "image/png": "[encoded data removed]",
      "text/plain": [
       "<Figure size 432x288 with 1 Axes>"
      ]
     },
     "metadata": {
      "needs_background": "light"
     },
     "output_type": "display_data"
    }
   ],
   "source": [
    "sns.boxplot(data=pilot_flu_df, x='fluency')"
   ]
  },
  {
   "cell_type": "code",
   "execution_count": 14,
   "metadata": {},
   "outputs": [
    {
     "name": "stdout",
     "output_type": "stream",
     "text": [
      "Minimum mean fluency per worker: 1.8333333333333333\n",
      "maximum mean fluency per worker: 4.833333333333333\n"
     ]
    },
    {
     "data": {
      "image/png": "[encoded data removed]",
      "text/plain": [
       "<Figure size 1080x1080 with 4 Axes>"
      ]
     },
     "metadata": {
      "needs_background": "light"
     },
     "output_type": "display_data"
    }
   ],
   "source": [
    "fig, ax = plt.subplots(2,2,figsize=(15,15), sharey=True, sharex=False)\n",
    "\n",
    "g = sns.histplot(data = pilot_flu_df.groupby('worker_id').mean(), x='fluency', ax=ax[0][0], kde=True, stat='probability')\n",
    "ax[0][0].set(xlabel = 'Mean fluency agg per worker')\n",
    "\n",
    "g = sns.histplot(data = pilot_flu_df.groupby('worker_id').std(), x='fluency', ax=ax[1][0], kde=True, stat='probability')\n",
    "ax[1][0].set(xlabel = 'Standard deviation of fluency agg per worker')\n",
    "\n",
    "g = sns.histplot(data = pilot_flu_df.groupby('claim_id').mean(), x='fluency', ax=ax[0][1], kde=True, stat='probability')\n",
    "ax[0][1].set(xlabel = 'Mean fluency agg per claim_id')\n",
    "\n",
    "g = sns.histplot(data = pilot_flu_df.groupby('claim_id').std(), x='fluency', ax=ax[1][1], kde=True, stat='probability')\n",
    "ax[1][1].set(xlabel = 'Standard deviation of fluency agg per claim_id')\n",
    "\n",
    "print('Minimum mean fluency per worker:', pilot_flu_df.groupby('worker_id').mean()['fluency'].min())\n",
    "print('maximum mean fluency per worker:', pilot_flu_df.groupby('worker_id').mean()['fluency'].max())"
   ]
  },
  {
   "cell_type": "markdown",
   "metadata": {},
   "source": [
    "### Agreement"
   ]
  },
  {
   "cell_type": "code",
   "execution_count": 15,
   "metadata": {},
   "outputs": [
    {
     "data": {
      "image/png": "[encoded data removed]",
      "text/plain": [
       "<Figure size 1080x1080 with 4 Axes>"
      ]
     },
     "metadata": {
      "needs_background": "light"
     },
     "output_type": "display_data"
    }
   ],
   "source": [
    "pilot_ade_df_worker = pilot_ade_df.groupby('worker_id')['adequacy'].apply(list).reset_index()\n",
    "pilot_ade_df_worker['0-score'] = pilot_ade_df_worker.adequacy.apply(lambda x : x.count(0)/len(x))\n",
    "pilot_ade_df_worker['1-score'] = pilot_ade_df_worker.adequacy.apply(lambda x : x.count(1)/len(x))\n",
    "pilot_ade_df_worker['2-score'] = pilot_ade_df_worker.adequacy.apply(lambda x : x.count(2)/len(x))\n",
    "\n",
    "fig, ax = plt.subplots(4,1,figsize=(15,15))\n",
    "\n",
    "sns.countplot(data=pilot_ade_df, x='adequacy', ax=ax[0])\n",
    "sns.histplot(data = pilot_ade_df_worker, ax=ax[1], kde=True, x = '0-score', stat='probability')\n",
    "sns.histplot(data = pilot_ade_df_worker, ax=ax[2], kde=True, x = '1-score', stat='probability')\n",
    "sns.histplot(data = pilot_ade_df_worker, ax=ax[3], kde=True, x = '2-score', stat='probability')\n",
    "\n",
    "\n",
    "plt.show()"
   ]
  },
  {
   "cell_type": "code",
   "execution_count": 16,
   "metadata": {},
   "outputs": [],
   "source": [
    "def prep_for_kripp(df, col, fun=np.min, fillna = None):\n",
    "    '''\n",
    "    WE TAKE THE MIN HERE, UNDER THE PREMISE THAT IF A WORKER SAW THE SAME SENTENCE TWICE AND GAVE IT TWO SCORES,\n",
    "    THE LESSER SCORE WOULD REFLECT DIFFICULTIES THE WORKER HAD THAT MIGHT NOT HAVE BEEN ON THEIR MIND DURING THE\n",
    "    GREATER SCORE ASSIGNMENT, BUT THAT ARE REAL NONETHELESS AND MUST BE REPORTED\n",
    "    '''\n",
    "    df = df.copy()\n",
    "    df = df[['worker_id','claim_id',col]].groupby(['worker_id','claim_id']).agg(fun).reset_index()\n",
    "    df = df.pivot(index='worker_id',columns='claim_id',values=col)\n",
    "    if fillna:\n",
    "        df = df.fillna('*')\n",
    "    return df\n",
    "\n",
    "def prep_for_fleiss(df, col):\n",
    "    df = df.copy()    \n",
    "    df = df[['claim_id',col]]\n",
    "    df['count'] = 1\n",
    "    df = df.groupby(['claim_id',col]).sum().reset_index()\n",
    "    df = df.pivot(index='claim_id', columns=col, values='count').fillna(0)\n",
    "    df = df[df.apply(lambda x : sum(x) == 5.0, axis=1)]\n",
    "    return df\n",
    "\n",
    "def prep_for_icc(df):\n",
    "    df = df.copy()   \n",
    "    ref_count = df['claim_id'].value_counts().reset_index()\n",
    "    not_repeated = list(ref_count[ref_count['claim_id'] == 5]['index'])\n",
    "\n",
    "    df = df[df['claim_id'].apply(lambda x : x in not_repeated)]\n",
    "    df = df.sort_values('claim_id')\n",
    "    df['raters'] = ['A','B','C','D','E']*(df.shape[0]//5)\n",
    "    return df"
   ]
  },
  {
   "cell_type": "code",
   "execution_count": 17,
   "metadata": {},
   "outputs": [
    {
     "data": {
      "text/plain": [
       "-0.06779661016949157"
      ]
     },
     "execution_count": 17,
     "metadata": {},
     "output_type": "execute_result"
    }
   ],
   "source": [
    "df = pd.DataFrame({\n",
    "  \"a\": [5,   5,    5,    5,    5],\n",
    "  \"b\": [5,   5,    4,    5,    4],\n",
    "  \"c\": ['*', 5,   '*', '*',    5],\n",
    "  \"d\": [5,   5,    3,    5,  '*'],\n",
    "  \"e\": [5, '*',    5,    4,    5],\n",
    "  \"f\": [5,   3,    5,    4,    5],\n",
    "}).T\n",
    "ka.krippendorff_alpha(df.values, ka.interval_metric, missing_items='*')\n",
    "\n",
    "# WHILE DISTRIBUTIONS LIKE THE ONE ABOVE SCORE VERY LOW, FLIPPING 3s AND 5s IN THE SECOND COLUMN, WHICH\n",
    "# SHOULD NOT CHANGE AGREEMENT, ACTUALLY INCREASES IT A LOT (0.37)\n",
    "# AND CHANGING IT TO [1,2,3,4,*,5] WHICH SHOULD DECREASE AGREEMENT ACTUALLY INCREASES IT TOO (to 0.34)\n",
    "\n",
    "# THE ISSUE HERE, AFTER TALKING WITH EDDY, IS THE LACK OF ANNOTATION VARIABILITY. THERE IS NO INDICATION THAT PEOPLE\n",
    "# CAN RATE ANYTHING OTHER THAN 5,4 AND 3, AND THE SPREAD SEEMS TO FAVOUR 5 SO THAT IT IS EXPECTED THAT THINGS WILL \n",
    "# MOSTLY BE A 5"
   ]
  },
  {
   "cell_type": "code",
   "execution_count": 18,
   "metadata": {},
   "outputs": [],
   "source": [
    "pilot_flu_df['fluency+'] = pilot_flu_df.fluency.apply(lambda x : 0 if x < 3 else 1)\n",
    "pilot_ade_df['adequacy+'] = pilot_ade_df.adequacy.apply(lambda x : 0 if x == 0 else 1)"
   ]
  },
  {
   "cell_type": "code",
   "execution_count": 19,
   "metadata": {},
   "outputs": [
    {
     "data": {
      "text/plain": [
       "[<matplotlib.lines.Line2D at 0x15271bcc2b0>]"
      ]
     },
     "execution_count": 19,
     "metadata": {},
     "output_type": "execute_result"
    },
    {
     "data": {
      "image/png": "[encoded data removed]",
      "text/plain": [
       "<Figure size 432x288 with 1 Axes>"
      ]
     },
     "metadata": {
      "needs_background": "light"
     },
     "output_type": "display_data"
    }
   ],
   "source": [
    "X = list(range(1,11))\n",
    "Y = []\n",
    "\n",
    "for i in X:\n",
    "    y = []\n",
    "    for _ in range(10):\n",
    "        ii = random.sample(range(1,11), i)\n",
    "        claim_id_ii = ['NOT_FLUENT_GOLDEN_DATA_' + str(j).rjust(2,'0') for j in ii]\n",
    "\n",
    "        pilot_flu_df_ii = pilot_flu_df.copy()\n",
    "        pilot_flu_df_ii = pilot_flu_df_ii[pilot_flu_df_ii['claim_id'].apply(lambda x : x not in claim_id_ii)]\n",
    "\n",
    "        pilot_flu_df_kripp = prep_for_kripp(pilot_flu_df_ii, 'fluency',fillna='*')\n",
    "\n",
    "        y.append(ka.krippendorff_alpha(\n",
    "            pilot_flu_df_kripp.values, ka.interval_metric, missing_items='*'\n",
    "        ))\n",
    "    Y.append(np.mean(y))\n",
    "plt.plot(X,Y)"
   ]
  },
  {
   "cell_type": "code",
   "execution_count": 20,
   "metadata": {},
   "outputs": [
    {
     "data": {
      "text/plain": [
       "[<matplotlib.lines.Line2D at 0x15271c2ce50>]"
      ]
     },
     "execution_count": 20,
     "metadata": {},
     "output_type": "execute_result"
    },
    {
     "data": {
      "image/png": "[encoded data removed]",
      "text/plain": [
       "<Figure size 432x288 with 1 Axes>"
      ]
     },
     "metadata": {
      "needs_background": "light"
     },
     "output_type": "display_data"
    }
   ],
   "source": [
    "X = list(range(1,11))\n",
    "Y = []\n",
    "\n",
    "for i in X:\n",
    "    y = []\n",
    "    for _ in range(10):\n",
    "        ii = random.sample(range(1,11), i)\n",
    "        claim_id_ii = ['NOT_FLUENT_GOLDEN_DATA_' + str(j).rjust(2,'0') for j in ii]\n",
    "\n",
    "        pilot_ade_df_ii = pilot_ade_df.copy()\n",
    "        pilot_ade_df_ii = pilot_ade_df_ii[pilot_ade_df_ii['claim_id'].apply(lambda x : x not in claim_id_ii)]\n",
    "\n",
    "        pilot_ade_df_kripp = prep_for_kripp(pilot_ade_df_ii, 'adequacy',fillna='*')\n",
    "\n",
    "        y.append(ka.krippendorff_alpha(\n",
    "            pilot_ade_df_kripp.values, ka.nominal_metric, missing_items='*'\n",
    "        ))\n",
    "    Y.append(np.mean(y))\n",
    "plt.plot(X,Y)"
   ]
  },
  {
   "cell_type": "code",
   "execution_count": 21,
   "metadata": {},
   "outputs": [
    {
     "data": {
      "text/plain": [
       "{'fluency': {'kalpha': 0.44402115491602423,\n",
       "  'fkappa': -0.0937500000000001,\n",
       "  'rkappa': 0.16000000000000006},\n",
       " 'adequacy': {'kalpha': 0.3634322082938777,\n",
       "  'fkappa': -0.11111111111111124,\n",
       "  'rkappa': 0.7000000000000001}}"
      ]
     },
     "execution_count": 21,
     "metadata": {},
     "output_type": "execute_result"
    }
   ],
   "source": [
    "import krippendorff_alpha as ka \n",
    "from statsmodels.stats.inter_rater import fleiss_kappa as fleiss\n",
    "\n",
    "aggr_levels_relevancy = {}\n",
    "\n",
    "aggr_levels_relevancy['fluency'] = {}\n",
    "\n",
    "pilot_flu_df_kripp = prep_for_kripp(pilot_flu_df, 'fluency',fillna='*')\n",
    "pilot_flu_df_fleiss = prep_for_fleiss(pilot_flu_df,'fluency')\n",
    "#pilot_flu_df_icc = prep_for_icc(pilot_flu_df)\n",
    "\n",
    "aggr_levels_relevancy['fluency']['kalpha'] = ka.krippendorff_alpha(\n",
    "    pilot_flu_df_kripp.values, ka.interval_metric, missing_items='*'\n",
    ")\n",
    "aggr_levels_relevancy['fluency']['fkappa'] = fleiss(pilot_flu_df_fleiss)\n",
    "aggr_levels_relevancy['fluency']['rkappa'] = fleiss(pilot_flu_df_fleiss, method = 'rand')\n",
    "#aggr_levels_relevancy['fluency']['icc'] = pg.intraclass_corr(\n",
    "#    data = pilot_flu_df_icc, targets = 'claim_id',raters='raters',ratings='fluency'\n",
    "#)\n",
    "\n",
    "\n",
    "aggr_levels_relevancy['adequacy'] = {}\n",
    "\n",
    "pilot_ade_df_kripp = prep_for_kripp(pilot_ade_df, 'adequacy', fillna='*')\n",
    "pilot_ade_df_fleiss = prep_for_fleiss(pilot_ade_df,'adequacy')\n",
    "#pilot_ade_df_icc = prep_for_icc(pilot_ade_df)\n",
    "\n",
    "aggr_levels_relevancy['adequacy']['kalpha'] = ka.krippendorff_alpha(\n",
    "    pilot_ade_df_kripp.values, ka.nominal_metric, missing_items='*'\n",
    ")\n",
    "aggr_levels_relevancy['adequacy']['fkappa'] = fleiss(pilot_ade_df_fleiss)\n",
    "aggr_levels_relevancy['adequacy']['rkappa'] = fleiss(pilot_ade_df_fleiss, method = 'rand')\n",
    "#aggr_levels_relevancy['adequacy']['icc'] = pg.intraclass_corr(\n",
    "#    data = pilot_ade_df_icc, targets = 'claim_id',raters='raters',ratings='adequacy'\n",
    "#)\n",
    "\n",
    "aggr_levels_relevancy"
   ]
  },
  {
   "cell_type": "markdown",
   "metadata": {},
   "source": [
    "### Conclusion\n",
    "\n",
    "Krippenrdorff is giving bad results due to the extreme skewing of the data. The answer I see is to introduce more cases of medium and low fluency. From the graph showed, we expect krippendorff to show a good response with 10 more non-fluent examples. We will introduce these as golden data and run the experiment again.\n",
    "\n",
    "Upon running the experiment again with added data from \"non-fluent and non-adequate\" golden data examples, agreement has risen on fluency but dropped on adequacy. This is probably due to the fact that we introduced non-fluent sentences full of grammar mistakes and whose meaning is difficult to understand, while also being non-adequate, meaning they did not reflect the triple at all. This confused people as to whether to say the meaning was not there (because it wasn't) or that they weren't sure due to poor grammar and syntax (because sentences were generated through n-gram distribution emulation). However, uniting \"No\" and \"Not Sure\" under the same class, agreement also rises a lot from before. We can also report agreement with these \"poor sentences\" in for fluency and out for adequacy, justifying by using the original distributions from pilot run 1.\n",
    "\n",
    "For the actual experiment, we can run with the \"poor sentences\" as they are now, and exclude them based on results later on, or even run a few more \"poor sentences\" examples later on to balance out the data if needed."
   ]
  },
  {
   "cell_type": "markdown",
   "metadata": {},
   "source": [
    "### Aggregated results"
   ]
  },
  {
   "cell_type": "code",
   "execution_count": 22,
   "metadata": {},
   "outputs": [
    {
     "data": {
      "text/html": [
       "<div>\n",
       "<style scoped>\n",
       "    .dataframe tbody tr th:only-of-type {\n",
       "        vertical-align: middle;\n",
       "    }\n",
       "\n",
       "    .dataframe tbody tr th {\n",
       "        vertical-align: top;\n",
       "    }\n",
       "\n",
       "    .dataframe thead th {\n",
       "        text-align: right;\n",
       "    }\n",
       "</style>\n",
       "<table border=\"1\" class=\"dataframe\">\n",
       "  <thead>\n",
       "    <tr style=\"text-align: right;\">\n",
       "      <th></th>\n",
       "      <th>worker_id</th>\n",
       "      <th>fluency</th>\n",
       "      <th>fluency+</th>\n",
       "      <th>fluency_mean</th>\n",
       "      <th>fluency_median</th>\n",
       "      <th>fluency+_mean</th>\n",
       "      <th>fluency+_median</th>\n",
       "    </tr>\n",
       "    <tr>\n",
       "      <th>claim_id</th>\n",
       "      <th></th>\n",
       "      <th></th>\n",
       "      <th></th>\n",
       "      <th></th>\n",
       "      <th></th>\n",
       "      <th></th>\n",
       "      <th></th>\n",
       "    </tr>\n",
       "  </thead>\n",
       "  <tbody>\n",
       "    <tr>\n",
       "      <th>Q105067149$991C48E5-BF5D-4B08-9ECC-7E35A5A58186</th>\n",
       "      <td>[A2XS49LRNX8PD4, A3G3Z7XWKYE25H, A2U375YRJDHUI...</td>\n",
       "      <td>[4, 3, 4, 5, 3, 5, 1, 3, 3, 4]</td>\n",
       "      <td>[1, 1, 1, 1, 1, 1, 0, 1, 1, 1]</td>\n",
       "      <td>3.5</td>\n",
       "      <td>3.5</td>\n",
       "      <td>0.9</td>\n",
       "      <td>1.0</td>\n",
       "    </tr>\n",
       "    <tr>\n",
       "      <th>Q1147190$DB3A1218-A4E8-4DE8-86CE-509AB756D530</th>\n",
       "      <td>[A1KL6MRIHQFJND, A26X8BQELDQSGH, A2E8EKAN93ZJR...</td>\n",
       "      <td>[5, 2, 5, 5, 5, 5, 5, 5, 4, 3]</td>\n",
       "      <td>[1, 0, 1, 1, 1, 1, 1, 1, 1, 1]</td>\n",
       "      <td>4.4</td>\n",
       "      <td>5.0</td>\n",
       "      <td>0.9</td>\n",
       "      <td>1.0</td>\n",
       "    </tr>\n",
       "    <tr>\n",
       "      <th>Q1163753$D91F5D42-3D82-42BE-80E6-307D1BA68C5A</th>\n",
       "      <td>[A1QEUI0J88TO78, A9IYXJT90J0NK, A1BAT5O7WVAFPW...</td>\n",
       "      <td>[4, 2, 5, 4, 1, 3, 2, 3, 5, 5]</td>\n",
       "      <td>[1, 0, 1, 1, 0, 1, 0, 1, 1, 1]</td>\n",
       "      <td>3.4</td>\n",
       "      <td>3.5</td>\n",
       "      <td>0.7</td>\n",
       "      <td>1.0</td>\n",
       "    </tr>\n",
       "    <tr>\n",
       "      <th>Q12693708$7b6f9528-4dd1-e117-9a03-cf5359c02d36</th>\n",
       "      <td>[A2U375YRJDHUIR, A21XMG5KSWXX9M, A30MP4LXV4MIF...</td>\n",
       "      <td>[1, 5, 5, 5, 4, 5, 5, 5, 5, 5]</td>\n",
       "      <td>[0, 1, 1, 1, 1, 1, 1, 1, 1, 1]</td>\n",
       "      <td>4.5</td>\n",
       "      <td>5.0</td>\n",
       "      <td>0.9</td>\n",
       "      <td>1.0</td>\n",
       "    </tr>\n",
       "    <tr>\n",
       "      <th>Q134015$a594cca0-5bdf-46ac-b678-1cc8d3a2e622</th>\n",
       "      <td>[AQXEQDTAU4MJ4, A2U375YRJDHUIR, A30MP4LXV4MIFD...</td>\n",
       "      <td>[5, 4, 4, 4, 4, 5, 5, 5, 5, 0]</td>\n",
       "      <td>[1, 1, 1, 1, 1, 1, 1, 1, 1, 0]</td>\n",
       "      <td>4.1</td>\n",
       "      <td>4.5</td>\n",
       "      <td>0.9</td>\n",
       "      <td>1.0</td>\n",
       "    </tr>\n",
       "  </tbody>\n",
       "</table>\n",
       "</div>"
      ],
      "text/plain": [
       "                                                                                         worker_id  \\\n",
       "claim_id                                                                                             \n",
       "Q105067149$991C48E5-BF5D-4B08-9ECC-7E35A5A58186  [A2XS49LRNX8PD4, A3G3Z7XWKYE25H, A2U375YRJDHUI...   \n",
       "Q1147190$DB3A1218-A4E8-4DE8-86CE-509AB756D530    [A1KL6MRIHQFJND, A26X8BQELDQSGH, A2E8EKAN93ZJR...   \n",
       "Q1163753$D91F5D42-3D82-42BE-80E6-307D1BA68C5A    [A1QEUI0J88TO78, A9IYXJT90J0NK, A1BAT5O7WVAFPW...   \n",
       "Q12693708$7b6f9528-4dd1-e117-9a03-cf5359c02d36   [A2U375YRJDHUIR, A21XMG5KSWXX9M, A30MP4LXV4MIF...   \n",
       "Q134015$a594cca0-5bdf-46ac-b678-1cc8d3a2e622     [AQXEQDTAU4MJ4, A2U375YRJDHUIR, A30MP4LXV4MIFD...   \n",
       "\n",
       "                                                                        fluency  \\\n",
       "claim_id                                                                          \n",
       "Q105067149$991C48E5-BF5D-4B08-9ECC-7E35A5A58186  [4, 3, 4, 5, 3, 5, 1, 3, 3, 4]   \n",
       "Q1147190$DB3A1218-A4E8-4DE8-86CE-509AB756D530    [5, 2, 5, 5, 5, 5, 5, 5, 4, 3]   \n",
       "Q1163753$D91F5D42-3D82-42BE-80E6-307D1BA68C5A    [4, 2, 5, 4, 1, 3, 2, 3, 5, 5]   \n",
       "Q12693708$7b6f9528-4dd1-e117-9a03-cf5359c02d36   [1, 5, 5, 5, 4, 5, 5, 5, 5, 5]   \n",
       "Q134015$a594cca0-5bdf-46ac-b678-1cc8d3a2e622     [5, 4, 4, 4, 4, 5, 5, 5, 5, 0]   \n",
       "\n",
       "                                                                       fluency+  \\\n",
       "claim_id                                                                          \n",
       "Q105067149$991C48E5-BF5D-4B08-9ECC-7E35A5A58186  [1, 1, 1, 1, 1, 1, 0, 1, 1, 1]   \n",
       "Q1147190$DB3A1218-A4E8-4DE8-86CE-509AB756D530    [1, 0, 1, 1, 1, 1, 1, 1, 1, 1]   \n",
       "Q1163753$D91F5D42-3D82-42BE-80E6-307D1BA68C5A    [1, 0, 1, 1, 0, 1, 0, 1, 1, 1]   \n",
       "Q12693708$7b6f9528-4dd1-e117-9a03-cf5359c02d36   [0, 1, 1, 1, 1, 1, 1, 1, 1, 1]   \n",
       "Q134015$a594cca0-5bdf-46ac-b678-1cc8d3a2e622     [1, 1, 1, 1, 1, 1, 1, 1, 1, 0]   \n",
       "\n",
       "                                                 fluency_mean  fluency_median  \\\n",
       "claim_id                                                                        \n",
       "Q105067149$991C48E5-BF5D-4B08-9ECC-7E35A5A58186           3.5             3.5   \n",
       "Q1147190$DB3A1218-A4E8-4DE8-86CE-509AB756D530             4.4             5.0   \n",
       "Q1163753$D91F5D42-3D82-42BE-80E6-307D1BA68C5A             3.4             3.5   \n",
       "Q12693708$7b6f9528-4dd1-e117-9a03-cf5359c02d36            4.5             5.0   \n",
       "Q134015$a594cca0-5bdf-46ac-b678-1cc8d3a2e622              4.1             4.5   \n",
       "\n",
       "                                                 fluency+_mean  \\\n",
       "claim_id                                                         \n",
       "Q105067149$991C48E5-BF5D-4B08-9ECC-7E35A5A58186            0.9   \n",
       "Q1147190$DB3A1218-A4E8-4DE8-86CE-509AB756D530              0.9   \n",
       "Q1163753$D91F5D42-3D82-42BE-80E6-307D1BA68C5A              0.7   \n",
       "Q12693708$7b6f9528-4dd1-e117-9a03-cf5359c02d36             0.9   \n",
       "Q134015$a594cca0-5bdf-46ac-b678-1cc8d3a2e622               0.9   \n",
       "\n",
       "                                                 fluency+_median  \n",
       "claim_id                                                          \n",
       "Q105067149$991C48E5-BF5D-4B08-9ECC-7E35A5A58186              1.0  \n",
       "Q1147190$DB3A1218-A4E8-4DE8-86CE-509AB756D530                1.0  \n",
       "Q1163753$D91F5D42-3D82-42BE-80E6-307D1BA68C5A                1.0  \n",
       "Q12693708$7b6f9528-4dd1-e117-9a03-cf5359c02d36               1.0  \n",
       "Q134015$a594cca0-5bdf-46ac-b678-1cc8d3a2e622                 1.0  "
      ]
     },
     "execution_count": 22,
     "metadata": {},
     "output_type": "execute_result"
    }
   ],
   "source": [
    "pilot_flu_df_agg = pilot_flu_df.copy()\n",
    "pilot_flu_df_agg = pilot_flu_df_agg[pilot_flu_df_agg['claim_id'].apply(\n",
    "    lambda x : not x.startswith('NOT_FLUENT_GOLDEN_DATA_')\n",
    ")]\n",
    "pilot_flu_df_agg = pilot_flu_df_agg.groupby('claim_id').agg(list)\n",
    "pilot_flu_df_agg['fluency_mean'] = pilot_flu_df_agg['fluency'].apply(np.mean)\n",
    "pilot_flu_df_agg['fluency_median'] = pilot_flu_df_agg['fluency'].apply(np.median)\n",
    "pilot_flu_df_agg['fluency+_mean'] = pilot_flu_df_agg['fluency+'].apply(np.mean)\n",
    "pilot_flu_df_agg['fluency+_median'] = pilot_flu_df_agg['fluency+'].apply(np.median)\n",
    "pilot_flu_df_agg.head()"
   ]
  },
  {
   "cell_type": "code",
   "execution_count": 23,
   "metadata": {},
   "outputs": [
    {
     "data": {
      "image/png": "[encoded data removed]",
      "text/plain": [
       "<Figure size 1080x360 with 3 Axes>"
      ]
     },
     "metadata": {
      "needs_background": "light"
     },
     "output_type": "display_data"
    }
   ],
   "source": [
    "fig, ax = plt.subplots(1,3,figsize=(15,5))\n",
    "\n",
    "sns.histplot(data=pilot_flu_df_agg, x='fluency_mean', ax=ax[0], kde=True)\n",
    "g = sns.countplot(data=pilot_flu_df_agg, x='fluency_median', ax=ax[1])\n",
    "\n",
    "for p in g.patches:\n",
    "    txt = str((p.get_height()/pilot_flu_df_agg.shape[0]*100).round(2)) + '%'\n",
    "    txt_x = p.get_x() \n",
    "    txt_y = p.get_height()\n",
    "    g.text(txt_x,txt_y,txt)\n",
    "    \n",
    "\n",
    "sns.boxplot(data=pilot_flu_df_agg, x='fluency_mean', ax=ax[2])\n",
    "\n",
    "plt.show()"
   ]
  },
  {
   "cell_type": "code",
   "execution_count": 24,
   "metadata": {},
   "outputs": [
    {
     "data": {
      "text/html": [
       "<div>\n",
       "<style scoped>\n",
       "    .dataframe tbody tr th:only-of-type {\n",
       "        vertical-align: middle;\n",
       "    }\n",
       "\n",
       "    .dataframe tbody tr th {\n",
       "        vertical-align: top;\n",
       "    }\n",
       "\n",
       "    .dataframe thead th {\n",
       "        text-align: right;\n",
       "    }\n",
       "</style>\n",
       "<table border=\"1\" class=\"dataframe\">\n",
       "  <thead>\n",
       "    <tr style=\"text-align: right;\">\n",
       "      <th></th>\n",
       "      <th>worker_id</th>\n",
       "      <th>adequacy</th>\n",
       "      <th>adequacy+</th>\n",
       "      <th>adequacy_maj</th>\n",
       "      <th>adequacy+_maj</th>\n",
       "      <th>adequacy_perc</th>\n",
       "    </tr>\n",
       "    <tr>\n",
       "      <th>claim_id</th>\n",
       "      <th></th>\n",
       "      <th></th>\n",
       "      <th></th>\n",
       "      <th></th>\n",
       "      <th></th>\n",
       "      <th></th>\n",
       "    </tr>\n",
       "  </thead>\n",
       "  <tbody>\n",
       "    <tr>\n",
       "      <th>Q105067149$991C48E5-BF5D-4B08-9ECC-7E35A5A58186</th>\n",
       "      <td>[A3AD5YO7CLO4LN, A1ETG64Q7Z9MF1, A14EYTLSMJRPU...</td>\n",
       "      <td>[0, 0, 0, 0, 0, 0, 0, 0, 1, 0]</td>\n",
       "      <td>[0, 0, 0, 0, 0, 0, 0, 0, 1, 0]</td>\n",
       "      <td>0</td>\n",
       "      <td>0</td>\n",
       "      <td>0.9</td>\n",
       "    </tr>\n",
       "    <tr>\n",
       "      <th>Q1147190$DB3A1218-A4E8-4DE8-86CE-509AB756D530</th>\n",
       "      <td>[AQNCH42WD4ITI, AM9HHSRDY3X37, A7EP668Z0WF6G, ...</td>\n",
       "      <td>[1, 1, 1, 0, 1, 0, 1, 1, 0, 1]</td>\n",
       "      <td>[1, 1, 1, 0, 1, 0, 1, 1, 0, 1]</td>\n",
       "      <td>1</td>\n",
       "      <td>1</td>\n",
       "      <td>0.3</td>\n",
       "    </tr>\n",
       "    <tr>\n",
       "      <th>Q1163753$D91F5D42-3D82-42BE-80E6-307D1BA68C5A</th>\n",
       "      <td>[A1CX45M5UVAM9R, A31Y7PAMZO5GVZ, A1EXO9HRNQYHW...</td>\n",
       "      <td>[0, 0, 1, 0, 0, 0, 0, 0, 0, 1]</td>\n",
       "      <td>[0, 0, 1, 0, 0, 0, 0, 0, 0, 1]</td>\n",
       "      <td>0</td>\n",
       "      <td>0</td>\n",
       "      <td>0.8</td>\n",
       "    </tr>\n",
       "    <tr>\n",
       "      <th>Q12693708$7b6f9528-4dd1-e117-9a03-cf5359c02d36</th>\n",
       "      <td>[A14EYTLSMJRPUK, ABVPW8753ZBJO, A171SF2UF7YUN4...</td>\n",
       "      <td>[0, 0, 0, 0, 0, 0, 0, 0, 0, 0]</td>\n",
       "      <td>[0, 0, 0, 0, 0, 0, 0, 0, 0, 0]</td>\n",
       "      <td>0</td>\n",
       "      <td>0</td>\n",
       "      <td>1.0</td>\n",
       "    </tr>\n",
       "    <tr>\n",
       "      <th>Q134015$a594cca0-5bdf-46ac-b678-1cc8d3a2e622</th>\n",
       "      <td>[A3UHRU688LVGS0, A14EYTLSMJRPUK, A171SF2UF7YUN...</td>\n",
       "      <td>[0, 0, 1, 0, 0, 0, 0, 1, 1, 0]</td>\n",
       "      <td>[0, 0, 1, 0, 0, 0, 0, 1, 1, 0]</td>\n",
       "      <td>0</td>\n",
       "      <td>0</td>\n",
       "      <td>0.7</td>\n",
       "    </tr>\n",
       "  </tbody>\n",
       "</table>\n",
       "</div>"
      ],
      "text/plain": [
       "                                                                                         worker_id  \\\n",
       "claim_id                                                                                             \n",
       "Q105067149$991C48E5-BF5D-4B08-9ECC-7E35A5A58186  [A3AD5YO7CLO4LN, A1ETG64Q7Z9MF1, A14EYTLSMJRPU...   \n",
       "Q1147190$DB3A1218-A4E8-4DE8-86CE-509AB756D530    [AQNCH42WD4ITI, AM9HHSRDY3X37, A7EP668Z0WF6G, ...   \n",
       "Q1163753$D91F5D42-3D82-42BE-80E6-307D1BA68C5A    [A1CX45M5UVAM9R, A31Y7PAMZO5GVZ, A1EXO9HRNQYHW...   \n",
       "Q12693708$7b6f9528-4dd1-e117-9a03-cf5359c02d36   [A14EYTLSMJRPUK, ABVPW8753ZBJO, A171SF2UF7YUN4...   \n",
       "Q134015$a594cca0-5bdf-46ac-b678-1cc8d3a2e622     [A3UHRU688LVGS0, A14EYTLSMJRPUK, A171SF2UF7YUN...   \n",
       "\n",
       "                                                                       adequacy  \\\n",
       "claim_id                                                                          \n",
       "Q105067149$991C48E5-BF5D-4B08-9ECC-7E35A5A58186  [0, 0, 0, 0, 0, 0, 0, 0, 1, 0]   \n",
       "Q1147190$DB3A1218-A4E8-4DE8-86CE-509AB756D530    [1, 1, 1, 0, 1, 0, 1, 1, 0, 1]   \n",
       "Q1163753$D91F5D42-3D82-42BE-80E6-307D1BA68C5A    [0, 0, 1, 0, 0, 0, 0, 0, 0, 1]   \n",
       "Q12693708$7b6f9528-4dd1-e117-9a03-cf5359c02d36   [0, 0, 0, 0, 0, 0, 0, 0, 0, 0]   \n",
       "Q134015$a594cca0-5bdf-46ac-b678-1cc8d3a2e622     [0, 0, 1, 0, 0, 0, 0, 1, 1, 0]   \n",
       "\n",
       "                                                                      adequacy+  \\\n",
       "claim_id                                                                          \n",
       "Q105067149$991C48E5-BF5D-4B08-9ECC-7E35A5A58186  [0, 0, 0, 0, 0, 0, 0, 0, 1, 0]   \n",
       "Q1147190$DB3A1218-A4E8-4DE8-86CE-509AB756D530    [1, 1, 1, 0, 1, 0, 1, 1, 0, 1]   \n",
       "Q1163753$D91F5D42-3D82-42BE-80E6-307D1BA68C5A    [0, 0, 1, 0, 0, 0, 0, 0, 0, 1]   \n",
       "Q12693708$7b6f9528-4dd1-e117-9a03-cf5359c02d36   [0, 0, 0, 0, 0, 0, 0, 0, 0, 0]   \n",
       "Q134015$a594cca0-5bdf-46ac-b678-1cc8d3a2e622     [0, 0, 1, 0, 0, 0, 0, 1, 1, 0]   \n",
       "\n",
       "                                                 adequacy_maj  adequacy+_maj  \\\n",
       "claim_id                                                                       \n",
       "Q105067149$991C48E5-BF5D-4B08-9ECC-7E35A5A58186             0              0   \n",
       "Q1147190$DB3A1218-A4E8-4DE8-86CE-509AB756D530               1              1   \n",
       "Q1163753$D91F5D42-3D82-42BE-80E6-307D1BA68C5A               0              0   \n",
       "Q12693708$7b6f9528-4dd1-e117-9a03-cf5359c02d36              0              0   \n",
       "Q134015$a594cca0-5bdf-46ac-b678-1cc8d3a2e622                0              0   \n",
       "\n",
       "                                                 adequacy_perc  \n",
       "claim_id                                                        \n",
       "Q105067149$991C48E5-BF5D-4B08-9ECC-7E35A5A58186            0.9  \n",
       "Q1147190$DB3A1218-A4E8-4DE8-86CE-509AB756D530              0.3  \n",
       "Q1163753$D91F5D42-3D82-42BE-80E6-307D1BA68C5A              0.8  \n",
       "Q12693708$7b6f9528-4dd1-e117-9a03-cf5359c02d36             1.0  \n",
       "Q134015$a594cca0-5bdf-46ac-b678-1cc8d3a2e622               0.7  "
      ]
     },
     "execution_count": 24,
     "metadata": {},
     "output_type": "execute_result"
    }
   ],
   "source": [
    "from collections import Counter\n",
    "\n",
    "\n",
    "def get_adequacy_majority(X):\n",
    "    counts = Counter(X).most_common(3)\n",
    "    if counts[0][1] > len(X)/2:\n",
    "        return counts[0][0]\n",
    "    else:\n",
    "        highest = []\n",
    "        for c in counts:\n",
    "            if c[1] == counts[0][1]:\n",
    "                highest.append(c)\n",
    "        return np.max([c[0] for c in highest])\n",
    "    \n",
    "def get_adequacy_percentage(row):\n",
    "    if row['adequacy_maj'] == 2:\n",
    "        return 0\n",
    "    else:\n",
    "        return 1 - np.mean([x if x != 2 else 1 for x in row['adequacy'] ])\n",
    "    \n",
    "pilot_ade_df_agg = pilot_ade_df.copy()\n",
    "pilot_ade_df_agg = pilot_ade_df_agg[pilot_ade_df_agg['claim_id'].apply(\n",
    "    lambda x : not x.startswith('NOT_FLUENT_GOLDEN_DATA_')\n",
    ")]            \n",
    "pilot_ade_df_agg = pilot_ade_df_agg.groupby('claim_id').agg(list)\n",
    "pilot_ade_df_agg['adequacy_maj'] = pilot_ade_df_agg['adequacy'].apply(get_adequacy_majority)\n",
    "pilot_ade_df_agg['adequacy+_maj'] = pilot_ade_df_agg['adequacy+'].apply(get_adequacy_majority)\n",
    "pilot_ade_df_agg['adequacy_perc'] = pilot_ade_df_agg.apply(get_adequacy_percentage, axis=1)\n",
    "pilot_ade_df_agg.head()"
   ]
  },
  {
   "cell_type": "code",
   "execution_count": 25,
   "metadata": {},
   "outputs": [
    {
     "data": {
      "image/png": "[encoded data removed]",
      "text/plain": [
       "<Figure size 1080x360 with 2 Axes>"
      ]
     },
     "metadata": {
      "needs_background": "light"
     },
     "output_type": "display_data"
    }
   ],
   "source": [
    "fig, ax = plt.subplots(1,2,figsize=(15,5))\n",
    "\n",
    "sns.histplot(data=pilot_ade_df_agg, x='adequacy_perc', ax=ax[0], kde=True)\n",
    "g = sns.countplot(data=pilot_ade_df_agg, x='adequacy_maj', ax=ax[1])\n",
    "\n",
    "for p in g.patches:\n",
    "    txt = str((p.get_height()/pilot_ade_df_agg.shape[0]*100).round(2)) + '%'\n",
    "    txt_x = p.get_x() \n",
    "    txt_y = p.get_height()\n",
    "    g.text(txt_x,txt_y,txt)\n",
    "\n",
    "plt.show()"
   ]
  }
 ],
 "metadata": {
  "kernelspec": {
   "display_name": "Python 3",
   "language": "python",
   "name": "python3"
  },
  "language_info": {
   "codemirror_mode": {
    "name": "ipython",
    "version": 3
   },
   "file_extension": ".py",
   "mimetype": "text/x-python",
   "name": "python",
   "nbconvert_exporter": "python",
   "pygments_lexer": "ipython3",
   "version": "3.8.5"
  }
 },
 "nbformat": 4,
 "nbformat_minor": 2
}
