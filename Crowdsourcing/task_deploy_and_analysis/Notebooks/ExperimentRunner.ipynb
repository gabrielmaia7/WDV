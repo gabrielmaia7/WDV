{
 "cells": [
  {
   "cell_type": "code",
   "execution_count": 1,
   "metadata": {},
   "outputs": [
    {
     "name": "stderr",
     "output_type": "stream",
     "text": [
      "C:\\Users\\gabri\\anaconda3\\envs\\phd\\lib\\site-packages\\outdated\\utils.py:14: OutdatedPackageWarning: The package pingouin is out of date. Your version is 0.4.0, the latest is 0.5.0.\n",
      "Set the environment variable OUTDATED_IGNORE=1 to disable these warnings.\n",
      "  return warn(\n"
     ]
    }
   ],
   "source": [
    "import mturk\n",
    "import random\n",
    "from datetime import datetime\n",
    "import json\n",
    "from pprint import pprint\n",
    "import copy\n",
    "import numpy as np\n",
    "from collections import OrderedDict\n",
    "import pandas as pd\n",
    "import pymongo\n",
    "import botocore\n",
    "import uuid\n",
    "import pdb\n",
    "import seaborn as sns\n",
    "import matplotlib.pyplot as plt\n",
    "import pingouin as pg\n",
    "import krippendorff_alpha as ka"
   ]
  },
  {
   "cell_type": "code",
   "execution_count": 2,
   "metadata": {},
   "outputs": [],
   "source": [
    "data_folder = './data/campaign/batch_2/'\n",
    "config_folder = './config/campaign/batch_1_and_2/'\n",
    "\n",
    "with open('./data/language_tests.json','r',encoding='utf-8') as f:\n",
    "    language_tests = json.load(f)\n",
    "with open('./config/mongodb_credentials.json','r') as f:\n",
    "    mongodb_credentials = json.load(f)\n",
    "    #mongodb_credentials[\"connection_string\"]"
   ]
  },
  {
   "cell_type": "code",
   "execution_count": 3,
   "metadata": {},
   "outputs": [
    {
     "data": {
      "text/plain": [
       "Collection(Database(MongoClient(host=['cluster0-shard-00-00.hjstc.mongodb.net:27017', 'cluster0-shard-00-02.hjstc.mongodb.net:27017', 'cluster0-shard-00-01.hjstc.mongodb.net:27017'], document_class=dict, tz_aware=False, connect=True, retrywrites=True, w='majority', authsource='admin', replicaset='Cluster0-shard-0', ssl=True), 'verbalisations'), 'hit_results_sandbox')"
      ]
     },
     "execution_count": 3,
     "metadata": {},
     "output_type": "execute_result"
    }
   ],
   "source": [
    "\"\"\" Connect to MTurk and to the Mongodb database. Set the boolean below to TRUE to use the marketplace and to FALSE to use the sandbox (testing the HITs)\"\"\"\n",
    "create_hits_in_production = False\n",
    "is_pilot = False\n",
    "\n",
    "db_client = pymongo.MongoClient(mongodb_credentials[\"connection_string\"])\n",
    "db = db_client['verbalisations']\n",
    "\n",
    "collection_name = 'hit_results' + ('_sandbox' if not create_hits_in_production else '') + ('_pilots' if is_pilot else '')\n",
    "\n",
    "hit_result_collection = db[collection_name]\n",
    "hit_result_collection"
   ]
  },
  {
   "cell_type": "code",
   "execution_count": 4,
   "metadata": {},
   "outputs": [
    {
     "name": "stdout",
     "output_type": "stream",
     "text": [
      "10000.00\n"
     ]
    },
    {
     "data": {
      "text/plain": [
       "'hit_results_sandbox'"
      ]
     },
     "execution_count": 4,
     "metadata": {},
     "output_type": "execute_result"
    }
   ],
   "source": [
    "mt = mturk.MTurk()\n",
    "mt.launch_client(create_hits_in_production)\n",
    "collection_name"
   ]
  },
  {
   "cell_type": "code",
   "execution_count": 5,
   "metadata": {},
   "outputs": [],
   "source": [
    "\"\"\" Ban the spammers! \"\"\"\n",
    "to_ban = False\n",
    "if to_ban:\n",
    "    with open('./config/banlist.json','r') as f:\n",
    "        banlist = json.load(f)\n",
    "    for w in banlist:\n",
    "        try:\n",
    "            response = mt.client.create_worker_block(\n",
    "                WorkerId=w,\n",
    "                Reason='You are copy and pasting text'\n",
    "            )\n",
    "            assert(response['ResponseMetadata']['HTTPStatusCode'] == 200)\n",
    "        except botocore.exceptions.ClientError as e:\n",
    "            continue"
   ]
  },
  {
   "cell_type": "code",
   "execution_count": 27,
   "metadata": {},
   "outputs": [
    {
     "name": "stdout",
     "output_type": "stream",
     "text": [
      "Generated 1 tasks with the following configs:\n",
      "{'AssignmentDurationInSeconds': 10800,\n",
      " 'Description': 'Help us by measuring the adequacy of some sentences compared '\n",
      "                'to background information. You should have reading '\n",
      "                'proficiency in English. Constructive feedback will be '\n",
      "                'appreciated and possibly rewarded.',\n",
      " 'Keywords': 'Adequacy, English, Reading, Comparing information, Comprehension',\n",
      " 'LifetimeInSeconds': 604800,\n",
      " 'MaxAssignments': 1,\n",
      " 'Reward': '1',\n",
      " 'Title': 'Measuring the adequacy of English sentences'}\n"
     ]
    }
   ],
   "source": [
    "\"\"\" Create the tasks by populating the HTML templates using the config file \"\"\"\n",
    "\n",
    "task_types = ['fluency','adequacy']\n",
    "task_type = task_types[1]\n",
    "\n",
    "with open(config_folder + 'task_config_{}.json'.format(task_type),'r') as f:\n",
    "    task_content = json.load(f)\n",
    "\n",
    "TaskAttributes = task_content['task_attributes']\n",
    "\n",
    "with open(task_content['html_layout'], 'r', encoding='utf-8') as f:\n",
    "    html_layout = f.read()\n",
    "    \n",
    "\n",
    "html_layout = html_layout.replace('${time_thr}$', task_content['time_thr'])\n",
    "if is_pilot:\n",
    "    html_layout = html_layout.replace('${pilot_wording}$',\n",
    "    '''\n",
    "    <li>\n",
    "        <span style=\"color:red\">This is a pilot.</span> Helpful and constructive feedback, regardless of\n",
    "        whether you finished the task, will be compensated. If there are technical errors that prevented\n",
    "        you from finishing, let us know and we will take them into consideration.\n",
    "    </li>\n",
    "    '''                              \n",
    "    )\n",
    "else:\n",
    "    html_layout = html_layout.replace('${pilot_wording}$','')\n",
    "    \n",
    "with open(data_folder + task_content['tasks'],'r') as f:\n",
    "    taskSets = json.load(f)\n",
    "    \n",
    "# If you're only testing, just pick one hit and run it once, with no qualification barriers\n",
    "if not create_hits_in_production:\n",
    "    TaskAttributes.pop('QualificationRequirements')\n",
    "    TaskAttributes['MaxAssignments'] = 1 \n",
    "    random.seed(42)\n",
    "    taskSets = random.sample(taskSets,1)\n",
    "        \n",
    "taskSets_dict = {\n",
    "    'html_layout' : html_layout,\n",
    "    'taskSets' : taskSets,\n",
    "    'TaskAttributes' : TaskAttributes,\n",
    "    'task_content': task_content\n",
    "}\n",
    "      \n",
    "print(f'Generated {len(taskSets)} tasks with the following configs:')\n",
    "\n",
    "pprint(TaskAttributes,indent=1) #verify the properties before running the HITs"
   ]
  },
  {
   "cell_type": "code",
   "execution_count": 28,
   "metadata": {},
   "outputs": [
    {
     "name": "stdout",
     "output_type": "stream",
     "text": [
      "Remaining HITs: 1\n",
      "Tasks totally finished: 0\n"
     ]
    }
   ],
   "source": [
    "\"\"\" See how many HITs this will generate, already multiplied by the expected number of assignments.\n",
    "Multiply the resulting number by the payment to see how much money this batch will consume. \"\"\"\n",
    "    \n",
    "l=[]\n",
    "done_count=0\n",
    "target_assignments = TaskAttributes['MaxAssignments']\n",
    "for taskSet in taskSets:\n",
    "    TaskAttributes_hit = copy.deepcopy(TaskAttributes)\n",
    "    TaskAttributes_hit['MaxAssignments'] = target_assignments -\\\n",
    "        sum([hit['hit']['NumberOfAssignmentsCompleted'] for hit in hit_result_collection.find({\n",
    "            'taskSet_id':taskSet['_id'],\n",
    "            'type': task_content['type'],\n",
    "        })]) #or sum [hit['hit']['NumberOfAssignmentsCompleted'] for completed results\n",
    "    l.append(TaskAttributes_hit['MaxAssignments'])\n",
    "    if TaskAttributes_hit['MaxAssignments'] == 0:\n",
    "        done_count += 1\n",
    "print(f'Remaining HITs: {sum(l)}')\n",
    "print(f'Tasks totally finished: {done_count}')"
   ]
  },
  {
   "cell_type": "code",
   "execution_count": 29,
   "metadata": {
    "scrolled": true
   },
   "outputs": [
    {
     "name": "stdout",
     "output_type": "stream",
     "text": [
      "0: 1d4adeff-958a-4226-9aab-2bf08931e37e\n",
      "Launched tasks\n",
      "You can view the HITs here:\n",
      "https://workersandbox.mturk.com/mturk/preview?groupId=3H2ZGQZOT0LUSWYACA6AW95XXAGXYX\n",
      "Batch ID is c09133f7-1de0-4491-b291-d743a140f335\n"
     ]
    }
   ],
   "source": [
    "\"\"\" Create the batch of HITs \"\"\"\n",
    "\n",
    "results = []\n",
    "batch_id = str(uuid.uuid4())\n",
    "\n",
    "#start_from = 0\n",
    "\n",
    "hit_type_id = ''\n",
    "target_assignments = TaskAttributes['MaxAssignments']\n",
    "for idx, taskSet in enumerate(taskSets):\n",
    "    print(f\"{idx}: {taskSet['_id']}\")\n",
    "    #if idx<start_from:\n",
    "    #    continue\n",
    "    TaskAttributes_hit = copy.deepcopy(TaskAttributes) # Adjust based on how many were already done in other batches\n",
    "    TaskAttributes_hit['MaxAssignments'] = target_assignments -\\\n",
    "        sum([hit['hit']['NumberOfAssignmentsCompleted'] for hit in hit_result_collection.find({\n",
    "            'taskSet_id':taskSet['_id'],\n",
    "            'type': task_content['type']\n",
    "        })])\n",
    "    if TaskAttributes_hit['MaxAssignments'] > 0:\n",
    "        try:\n",
    "            random.seed(None)\n",
    "            language_questions = random.sample(language_tests['en'],k=4)\n",
    "            response = mt.create_hit(\n",
    "                html_layout.replace('${verbalisations}$', str(taskSet['taskSet'])).\\\n",
    "                            replace('${attention_questions}$', json.dumps(language_questions)),\n",
    "                **TaskAttributes_hit\n",
    "            )\n",
    "\n",
    "            hit_type_id = response['HIT']['HITTypeId']\n",
    "            result = {\n",
    "                '_id': response['HIT']['HITId'],\n",
    "                'batch_id': batch_id,\n",
    "                'type': task_content['type'],\n",
    "                'verbalisations': taskSet['taskSet'],\n",
    "                'attention_test': language_questions,\n",
    "                'taskSet_id':taskSet['_id'],\n",
    "                'hit': response['HIT'],\n",
    "                'timestamp': datetime.now()\n",
    "            }\n",
    "            results.append(result)\n",
    "            hit_result_collection.insert_one(result)\n",
    "        except botocore.exceptions.ClientError as e:\n",
    "            print(e.__dict__)\n",
    "            if e.response['Error']['Code'] == 'RequestError':\n",
    "                # Not enough funds\n",
    "                print(\"Funds ran out! The last hit above was not launched! Please recharge!\")\n",
    "                break\n",
    "            elif e.response['Error']['Code'] == 'ThrottlingException':    \n",
    "                pdb.set_trace()              \n",
    "                print(\"Turn off the database updater!\")\n",
    "                continue\n",
    "            else:\n",
    "                pdb.set_trace()            \n",
    "                raise\n",
    "        except Exception as e:\n",
    "            pdb.set_trace()            \n",
    "            raise\n",
    "        #except:\n",
    "        #    pdb.set_trace()            \n",
    "        #    raise\n",
    "\n",
    "# For you to go to the HITs you just created and test them\n",
    "print('Launched tasks')\n",
    "if not create_hits_in_production:\n",
    "    print('You can view the HITs here:')\n",
    "    print(mt.mturk_environment['preview']+\"?groupId={}\".format(hit_type_id))\n",
    "else:\n",
    "    print('Launched! Good Luck!')\n",
    "    \n",
    "print('Batch ID is',batch_id)"
   ]
  },
  {
   "cell_type": "code",
   "execution_count": 30,
   "metadata": {
    "scrolled": false
   },
   "outputs": [
    {
     "name": "stdout",
     "output_type": "stream",
     "text": [
      "Removed 3BAKUKE4AKOTF3TCXUNS9PF9B3J1RF\n",
      "Finished\n"
     ]
    }
   ],
   "source": [
    "# REMOVING FINISHED TASKS FROM THE UPDATE QUEUE\n",
    "\n",
    "\"\"\" If you set 'force' to TRUE, it will abort mission and force an expiry in all HITs and then delete them.\n",
    "If you only want to remove the completed ones (make them Disposed so the update routine won't loop through tons of\n",
    "HITs), keep it as FALSE.\"\"\"\n",
    "force = True\n",
    "while True:\n",
    "    ''' Dispose all hits in the database '''\n",
    "    query = {'hit.HITStatus': {'$not': {'$eq': 'Disposed'}}}\n",
    "    #query['type'] = 'relevance'\n",
    "    if not force:\n",
    "        query['hit.NumberOfAssignmentsPending'] = 0\n",
    "        query['hit.NumberOfAssignmentsAvailable'] = 0\n",
    "    elif force:\n",
    "        query['hit.NumberOfAssignmentsPending'] = 0\n",
    "    hit_result_collection_list = list(hit_result_collection.find(query))\n",
    "    if (not force and len(hit_result_collection_list) == 0) or (force and mt.client.list_hits()['NumResults']==0):\n",
    "    #if len(list(hit_result_collection.find({'hit.HITStatus': {'$not': {'$eq': 'Disposed'}}, 'type':'relevance'}))) == 0:\n",
    "        print('Finished')\n",
    "        break\n",
    "    for hit in hit_result_collection_list:\n",
    "        try:\n",
    "            mt.client.delete_hit(HITId = hit['_id'])\n",
    "            print('Removed',hit['_id'])\n",
    "        except Exception as e:\n",
    "            #print('Level 1', hit['_id'], e)\n",
    "            if force:\n",
    "                try:\n",
    "                    mt.client.update_expiration_for_hit(HITId = hit['_id'], ExpireAt=datetime(2017, 1, 1))\n",
    "                    mt.client.delete_hit(HITId = hit['_id'])\n",
    "                    print('Removed',hit['_id'])\n",
    "                except Exception as e:\n",
    "                    #print('Level 2', hit['_id'],e)\n",
    "                    pass\n",
    "            continue"
   ]
  },
  {
   "cell_type": "markdown",
   "metadata": {},
   "source": [
    "# MISC"
   ]
  },
  {
   "cell_type": "code",
   "execution_count": 36,
   "metadata": {},
   "outputs": [
    {
     "data": {
      "text/plain": [
       "{'AvailableBalance': '10000.00',\n",
       " 'ResponseMetadata': {'RequestId': 'cac83b9b-d08b-477e-a444-cb6347002975',\n",
       "  'HTTPStatusCode': 200,\n",
       "  'HTTPHeaders': {'x-amzn-requestid': 'cac83b9b-d08b-477e-a444-cb6347002975',\n",
       "   'content-type': 'application/x-amz-json-1.1',\n",
       "   'content-length': '31',\n",
       "   'date': 'Wed, 06 Oct 2021 16:05:21 GMT'},\n",
       "  'RetryAttempts': 0}}"
      ]
     },
     "execution_count": 36,
     "metadata": {},
     "output_type": "execute_result"
    }
   ],
   "source": [
    "mt.client.get_account_balance()"
   ]
  },
  {
   "cell_type": "code",
   "execution_count": 8,
   "metadata": {},
   "outputs": [
    {
     "data": {
      "text/plain": [
       "{'ResponseMetadata': {'RequestId': 'a038b160-0721-4475-bbfd-ee73cf5fe3b9',\n",
       "  'HTTPStatusCode': 200,\n",
       "  'HTTPHeaders': {'x-amzn-requestid': 'a038b160-0721-4475-bbfd-ee73cf5fe3b9',\n",
       "   'content-type': 'application/x-amz-json-1.1',\n",
       "   'content-length': '2',\n",
       "   'date': 'Fri, 13 Aug 2021 18:45:26 GMT'},\n",
       "  'RetryAttempts': 0}}"
      ]
     },
     "execution_count": 8,
     "metadata": {},
     "output_type": "execute_result"
    }
   ],
   "source": [
    "#mt.client.send_bonus(\n",
    "#    WorkerId='-',\n",
    "#    BonusAmount='-',\n",
    "#    AssignmentId='-',\n",
    "#    Reason='feedback'\n",
    "#)"
   ]
  },
  {
   "cell_type": "code",
   "execution_count": 38,
   "metadata": {
    "scrolled": true
   },
   "outputs": [
    {
     "data": {
      "text/plain": [
       "{'NumResults': 0,\n",
       " 'HITs': [],\n",
       " 'ResponseMetadata': {'RequestId': '473b5051-fa30-48cd-8b87-4bd024bfebdf',\n",
       "  'HTTPStatusCode': 200,\n",
       "  'HTTPHeaders': {'x-amzn-requestid': '473b5051-fa30-48cd-8b87-4bd024bfebdf',\n",
       "   'content-type': 'application/x-amz-json-1.1',\n",
       "   'content-length': '26',\n",
       "   'date': 'Wed, 06 Oct 2021 16:07:04 GMT'},\n",
       "  'RetryAttempts': 0}}"
      ]
     },
     "execution_count": 38,
     "metadata": {},
     "output_type": "execute_result"
    }
   ],
   "source": [
    "# CLEANING LEFTOVERS\n",
    "\n",
    "mt.client.list_hits(MaxResults=100)\n",
    "#hitid = '3M93N4X8INZCBZ9T28UOVALJBK2SJO'\n",
    "#mt.client.update_expiration_for_hit(HITId = hitid, ExpireAt=datetime(2018, 1, 1))\n",
    "#mt.get_hit_answers(HITId = hitid, approve=True)\n",
    "#mt.client.delete_hit(HITId = hitid)"
   ]
  },
  {
   "cell_type": "code",
   "execution_count": null,
   "metadata": {},
   "outputs": [],
   "source": []
  }
 ],
 "metadata": {
  "kernelspec": {
   "display_name": "Python 3",
   "language": "python",
   "name": "python3"
  },
  "language_info": {
   "codemirror_mode": {
    "name": "ipython",
    "version": 3
   },
   "file_extension": ".py",
   "mimetype": "text/x-python",
   "name": "python",
   "nbconvert_exporter": "python",
   "pygments_lexer": "ipython3",
   "version": "3.8.5"
  }
 },
 "nbformat": 4,
 "nbformat_minor": 2
}
