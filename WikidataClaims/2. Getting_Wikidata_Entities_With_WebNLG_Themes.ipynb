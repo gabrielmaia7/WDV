{
 "cells": [
  {
   "cell_type": "markdown",
   "metadata": {},
   "source": [
    "This notebook exists to get, from our parsed sample of Wikidata, a list of entities that belong to each of the categories (or themes) used on WebNLG, as well as to 5 more we have defined.\n",
    "\n",
    "To do this, it follows the following steps:\n",
    "1. It connects to our parsed database\n",
    "2. It looks at the P31 property (non-deprecated) to see what are the largest overall categories in Wikidata to obtain the new 5 categories from. (originally, this was coded and executed before all other analysis took place, even the subtree structure calculation on `WebNLG_Classes_To_Wikidata_Mapping.ipynb`)\n",
    "3. Loads the subtree structures calculated on the notebook `WebNLG_Classes_To_Wikidata_Mapping.ipynb` and flattens them for easier processing.\n",
    "4. Calculates subtree overlap to see if our new classes are not overlapping the ones in WebNLG too much.\n",
    "5. Calculates how many instances (through P31) and subclasses are in each theme and use that to decide how to take entities.\n",
    "6. Gather final list of entities on each theme.\n",
    "    1. For Food, we use the subclasses themselves, as instances of food are extremely rare and the vast majority of foods are classes.\n",
    "    2. For professions, we use the occupation predicate, as there are very few instances of professions (see ontoclean).\n",
    "    3. For all the rest, we use P31 as calculated in point 5 above.\n",
    "7. Save this list in `final_entity_list.p`"
   ]
  },
  {
   "cell_type": "code",
   "execution_count": 230,
   "metadata": {},
   "outputs": [],
   "source": [
    "import sqlite3\n",
    "import numpy as np\n",
    "import pandas as pd\n",
    "import json\n",
    "import pdb\n",
    "import ast\n",
    "from importlib import reload\n",
    "import wikidata_utils as wdutils"
   ]
  },
  {
   "cell_type": "markdown",
   "metadata": {},
   "source": [
    "# Setting up database access"
   ]
  },
  {
   "cell_type": "code",
   "execution_count": 231,
   "metadata": {},
   "outputs": [],
   "source": [
    "db = sqlite3.connect('wikidata_claims_refs_parsed.db')\n",
    "cursor = db.cursor()"
   ]
  },
  {
   "cell_type": "code",
   "execution_count": 232,
   "metadata": {},
   "outputs": [],
   "source": [
    "claims_columns = ['entity_id','claim_id','rank','property_id','datatype','datavalue']"
   ]
  },
  {
   "cell_type": "code",
   "execution_count": 233,
   "metadata": {},
   "outputs": [
    {
     "data": {
      "text/html": [
       "<div>\n",
       "<style scoped>\n",
       "    .dataframe tbody tr th:only-of-type {\n",
       "        vertical-align: middle;\n",
       "    }\n",
       "\n",
       "    .dataframe tbody tr th {\n",
       "        vertical-align: top;\n",
       "    }\n",
       "\n",
       "    .dataframe thead th {\n",
       "        text-align: right;\n",
       "    }\n",
       "</style>\n",
       "<table border=\"1\" class=\"dataframe\">\n",
       "  <thead>\n",
       "    <tr style=\"text-align: right;\">\n",
       "      <th></th>\n",
       "      <th>entity_id</th>\n",
       "      <th>claim_id</th>\n",
       "      <th>rank</th>\n",
       "      <th>property_id</th>\n",
       "      <th>datatype</th>\n",
       "      <th>datavalue</th>\n",
       "    </tr>\n",
       "  </thead>\n",
       "  <tbody>\n",
       "    <tr>\n",
       "      <th>0</th>\n",
       "      <td>Q23</td>\n",
       "      <td>Q23$041e45df-45c4-d094-293c-5bb349915991</td>\n",
       "      <td>preferred</td>\n",
       "      <td>P509</td>\n",
       "      <td>wikibase-item</td>\n",
       "      <td>{'value': {'entity-type': 'item', 'numeric-id'...</td>\n",
       "    </tr>\n",
       "    <tr>\n",
       "      <th>1</th>\n",
       "      <td>Q23</td>\n",
       "      <td>Q23$10f2f86e-48d5-7f87-d1f9-2209ad22b5f8</td>\n",
       "      <td>normal</td>\n",
       "      <td>P509</td>\n",
       "      <td>wikibase-item</td>\n",
       "      <td>{'value': {'entity-type': 'item', 'numeric-id'...</td>\n",
       "    </tr>\n",
       "    <tr>\n",
       "      <th>2</th>\n",
       "      <td>Q23</td>\n",
       "      <td>Q23$55314e7d-4e6e-0e48-dd5e-369b15528813</td>\n",
       "      <td>normal</td>\n",
       "      <td>P947</td>\n",
       "      <td>external-id</td>\n",
       "      <td>{'value': '000025437', 'type': 'string'}</td>\n",
       "    </tr>\n",
       "    <tr>\n",
       "      <th>3</th>\n",
       "      <td>Q23</td>\n",
       "      <td>q23$A0F25969-96F6-4354-A795-73BAD12A90D8</td>\n",
       "      <td>normal</td>\n",
       "      <td>P20</td>\n",
       "      <td>wikibase-item</td>\n",
       "      <td>{'value': {'entity-type': 'item', 'numeric-id'...</td>\n",
       "    </tr>\n",
       "    <tr>\n",
       "      <th>4</th>\n",
       "      <td>Q23</td>\n",
       "      <td>q23$8A2F4718-6159-4E58-A8F9-6F24F5EFEC42</td>\n",
       "      <td>normal</td>\n",
       "      <td>P26</td>\n",
       "      <td>wikibase-item</td>\n",
       "      <td>{'value': {'entity-type': 'item', 'numeric-id'...</td>\n",
       "    </tr>\n",
       "    <tr>\n",
       "      <th>5</th>\n",
       "      <td>Q23</td>\n",
       "      <td>q23$05CC0EC0-2078-4844-B78C-DFCD1307A630</td>\n",
       "      <td>normal</td>\n",
       "      <td>P109</td>\n",
       "      <td>commonsMedia</td>\n",
       "      <td>{'value': 'George Washington signature.svg', '...</td>\n",
       "    </tr>\n",
       "    <tr>\n",
       "      <th>6</th>\n",
       "      <td>Q23</td>\n",
       "      <td>q23$A51FED6A-DBEF-4415-B613-52753B0612BF</td>\n",
       "      <td>normal</td>\n",
       "      <td>P22</td>\n",
       "      <td>wikibase-item</td>\n",
       "      <td>{'value': {'entity-type': 'item', 'numeric-id'...</td>\n",
       "    </tr>\n",
       "    <tr>\n",
       "      <th>7</th>\n",
       "      <td>Q23</td>\n",
       "      <td>q23$DF2FAA9F-BDD0-4A08-9C20-B83FA42AADA5</td>\n",
       "      <td>normal</td>\n",
       "      <td>P25</td>\n",
       "      <td>wikibase-item</td>\n",
       "      <td>{'value': {'entity-type': 'item', 'numeric-id'...</td>\n",
       "    </tr>\n",
       "    <tr>\n",
       "      <th>8</th>\n",
       "      <td>Q23</td>\n",
       "      <td>Q23$1004C4FD-56A2-4B27-ACD7-DE8E31931083</td>\n",
       "      <td>normal</td>\n",
       "      <td>P27</td>\n",
       "      <td>wikibase-item</td>\n",
       "      <td>{'value': {'entity-type': 'item', 'numeric-id'...</td>\n",
       "    </tr>\n",
       "    <tr>\n",
       "      <th>9</th>\n",
       "      <td>Q23</td>\n",
       "      <td>Q23$f0d4604c-449d-b223-aa02-1f59f4529117</td>\n",
       "      <td>normal</td>\n",
       "      <td>P27</td>\n",
       "      <td>wikibase-item</td>\n",
       "      <td>{'value': {'entity-type': 'item', 'numeric-id'...</td>\n",
       "    </tr>\n",
       "    <tr>\n",
       "      <th>10</th>\n",
       "      <td>Q23</td>\n",
       "      <td>q23$7F1176DF-B1EF-4B9D-9249-993D14D9AC4D</td>\n",
       "      <td>preferred</td>\n",
       "      <td>P106</td>\n",
       "      <td>wikibase-item</td>\n",
       "      <td>{'value': {'entity-type': 'item', 'numeric-id'...</td>\n",
       "    </tr>\n",
       "    <tr>\n",
       "      <th>11</th>\n",
       "      <td>Q23</td>\n",
       "      <td>q23$212B925B-881F-4778-A2B5-302C9FBD9A41</td>\n",
       "      <td>normal</td>\n",
       "      <td>P106</td>\n",
       "      <td>wikibase-item</td>\n",
       "      <td>{'value': {'entity-type': 'item', 'numeric-id'...</td>\n",
       "    </tr>\n",
       "    <tr>\n",
       "      <th>12</th>\n",
       "      <td>Q23</td>\n",
       "      <td>Q23$7891ba2b-454a-b218-e48c-f08f1f8ce76d</td>\n",
       "      <td>normal</td>\n",
       "      <td>P106</td>\n",
       "      <td>wikibase-item</td>\n",
       "      <td>{'value': {'entity-type': 'item', 'numeric-id'...</td>\n",
       "    </tr>\n",
       "    <tr>\n",
       "      <th>13</th>\n",
       "      <td>Q23</td>\n",
       "      <td>Q23$3AE23BD2-7CDE-4B11-99D3-FA7133DE422D</td>\n",
       "      <td>normal</td>\n",
       "      <td>P106</td>\n",
       "      <td>wikibase-item</td>\n",
       "      <td>{'value': {'entity-type': 'item', 'numeric-id'...</td>\n",
       "    </tr>\n",
       "    <tr>\n",
       "      <th>14</th>\n",
       "      <td>Q23</td>\n",
       "      <td>Q23$4240dd5c-4f0a-4763-01e9-60179aed55fe</td>\n",
       "      <td>normal</td>\n",
       "      <td>P106</td>\n",
       "      <td>wikibase-item</td>\n",
       "      <td>{'value': {'entity-type': 'item', 'numeric-id'...</td>\n",
       "    </tr>\n",
       "  </tbody>\n",
       "</table>\n",
       "</div>"
      ],
      "text/plain": [
       "   entity_id                                  claim_id       rank property_id  \\\n",
       "0        Q23  Q23$041e45df-45c4-d094-293c-5bb349915991  preferred        P509   \n",
       "1        Q23  Q23$10f2f86e-48d5-7f87-d1f9-2209ad22b5f8     normal        P509   \n",
       "2        Q23  Q23$55314e7d-4e6e-0e48-dd5e-369b15528813     normal        P947   \n",
       "3        Q23  q23$A0F25969-96F6-4354-A795-73BAD12A90D8     normal         P20   \n",
       "4        Q23  q23$8A2F4718-6159-4E58-A8F9-6F24F5EFEC42     normal         P26   \n",
       "5        Q23  q23$05CC0EC0-2078-4844-B78C-DFCD1307A630     normal        P109   \n",
       "6        Q23  q23$A51FED6A-DBEF-4415-B613-52753B0612BF     normal         P22   \n",
       "7        Q23  q23$DF2FAA9F-BDD0-4A08-9C20-B83FA42AADA5     normal         P25   \n",
       "8        Q23  Q23$1004C4FD-56A2-4B27-ACD7-DE8E31931083     normal         P27   \n",
       "9        Q23  Q23$f0d4604c-449d-b223-aa02-1f59f4529117     normal         P27   \n",
       "10       Q23  q23$7F1176DF-B1EF-4B9D-9249-993D14D9AC4D  preferred        P106   \n",
       "11       Q23  q23$212B925B-881F-4778-A2B5-302C9FBD9A41     normal        P106   \n",
       "12       Q23  Q23$7891ba2b-454a-b218-e48c-f08f1f8ce76d     normal        P106   \n",
       "13       Q23  Q23$3AE23BD2-7CDE-4B11-99D3-FA7133DE422D     normal        P106   \n",
       "14       Q23  Q23$4240dd5c-4f0a-4763-01e9-60179aed55fe     normal        P106   \n",
       "\n",
       "         datatype                                          datavalue  \n",
       "0   wikibase-item  {'value': {'entity-type': 'item', 'numeric-id'...  \n",
       "1   wikibase-item  {'value': {'entity-type': 'item', 'numeric-id'...  \n",
       "2     external-id           {'value': '000025437', 'type': 'string'}  \n",
       "3   wikibase-item  {'value': {'entity-type': 'item', 'numeric-id'...  \n",
       "4   wikibase-item  {'value': {'entity-type': 'item', 'numeric-id'...  \n",
       "5    commonsMedia  {'value': 'George Washington signature.svg', '...  \n",
       "6   wikibase-item  {'value': {'entity-type': 'item', 'numeric-id'...  \n",
       "7   wikibase-item  {'value': {'entity-type': 'item', 'numeric-id'...  \n",
       "8   wikibase-item  {'value': {'entity-type': 'item', 'numeric-id'...  \n",
       "9   wikibase-item  {'value': {'entity-type': 'item', 'numeric-id'...  \n",
       "10  wikibase-item  {'value': {'entity-type': 'item', 'numeric-id'...  \n",
       "11  wikibase-item  {'value': {'entity-type': 'item', 'numeric-id'...  \n",
       "12  wikibase-item  {'value': {'entity-type': 'item', 'numeric-id'...  \n",
       "13  wikibase-item  {'value': {'entity-type': 'item', 'numeric-id'...  \n",
       "14  wikibase-item  {'value': {'entity-type': 'item', 'numeric-id'...  "
      ]
     },
     "execution_count": 233,
     "metadata": {},
     "output_type": "execute_result"
    }
   ],
   "source": [
    "# Checking first few elements\n",
    "cursor.execute('select * from claims limit 15;')\n",
    "head_df = pd.DataFrame(cursor.fetchall())\n",
    "head_df.columns = claims_columns\n",
    "head_df"
   ]
  },
  {
   "cell_type": "code",
   "execution_count": 6,
   "metadata": {},
   "outputs": [
    {
     "data": {
      "text/plain": [
       "[(256557241,)]"
      ]
     },
     "execution_count": 6,
     "metadata": {},
     "output_type": "execute_result"
    }
   ],
   "source": [
    "# Checking total of claims\n",
    "cursor.execute('select count(*) from claims')\n",
    "cursor.fetchall()"
   ]
  },
  {
   "cell_type": "markdown",
   "metadata": {},
   "source": [
    "# Looking at P31 (instance of) property"
   ]
  },
  {
   "cell_type": "markdown",
   "metadata": {},
   "source": [
    "https://www.wikidata.org/wiki/Help:Basic_membership_properties"
   ]
  },
  {
   "cell_type": "code",
   "execution_count": 235,
   "metadata": {},
   "outputs": [],
   "source": [
    "# To extract the values from datavalue columns\n",
    "def convert_datavalue(datavalue, datatype):\n",
    "    try:\n",
    "        if datavalue in ['novalue','somevalue']:\n",
    "            return datavalue\n",
    "        datavalue = ast.literal_eval(datavalue)\n",
    "        if datatype == 'wikibase-item':\n",
    "            return datavalue['value']['id']\n",
    "        else:\n",
    "            raise Exception\n",
    "    except ValueError as e:\n",
    "        pdb.set_trace()\n",
    "        raise e"
   ]
  },
  {
   "cell_type": "code",
   "execution_count": 8,
   "metadata": {},
   "outputs": [
    {
     "data": {
      "text/plain": [
       "[(19791222,)]"
      ]
     },
     "execution_count": 8,
     "metadata": {},
     "output_type": "execute_result"
    }
   ],
   "source": [
    "cursor.execute('select count(*) from claims where property_id=\"P31\"')\n",
    "cursor.fetchall()\n",
    "# Number of single P31 properties in the database: 19791222"
   ]
  },
  {
   "cell_type": "code",
   "execution_count": 9,
   "metadata": {},
   "outputs": [
    {
     "data": {
      "text/plain": [
       "[('deprecated', 661591), ('normal', 19115097), ('preferred', 14534)]"
      ]
     },
     "execution_count": 9,
     "metadata": {},
     "output_type": "execute_result"
    }
   ],
   "source": [
    "cursor.execute('select claim_rank, count(claim_rank) from claims where property_id=\"P31\" group by claim_rank')\n",
    "cursor.fetchall()\n",
    "# This means that 3.34% are deprecated, 96.6% are normal, and 0.07% are preferred."
   ]
  },
  {
   "cell_type": "markdown",
   "metadata": {},
   "source": [
    "## Deprecated cases"
   ]
  },
  {
   "cell_type": "code",
   "execution_count": 10,
   "metadata": {},
   "outputs": [],
   "source": [
    "# Just taking a look at the deprecated ones to see what's up\n",
    "cursor.execute(\n",
    "    '''\n",
    "    select *\n",
    "    from claims\n",
    "    where property_id=\"P31\" and claim_rank=\"deprecated\"\n",
    "    '''\n",
    ")\n",
    "deprecated_P31_df = pd.DataFrame(cursor.fetchall())"
   ]
  },
  {
   "cell_type": "code",
   "execution_count": 11,
   "metadata": {
    "scrolled": true
   },
   "outputs": [],
   "source": [
    "deprecated_P31_df.columns = claims_columns\n",
    "deprecated_P31_df['class_entity'] = deprecated_P31_df.apply(\n",
    "        lambda x : convert_datavalue(x['datavalue'], x['datatype']) , axis=1\n",
    ")"
   ]
  },
  {
   "cell_type": "code",
   "execution_count": 12,
   "metadata": {},
   "outputs": [
    {
     "data": {
      "text/plain": [
       "class_entity\n",
       "Q67206691    77.155675\n",
       "Q523         10.615320\n",
       "Q67206785     1.788567\n",
       "Q1931185      1.324988\n",
       "Q318          1.090099\n",
       "Q2247863      0.680481\n",
       "Q13890        0.519505\n",
       "Q46587        0.499402\n",
       "Q6243         0.401910\n",
       "Q2154519      0.373947\n",
       "Q1153690      0.301546\n",
       "Q83373        0.298069\n",
       "Q72802727     0.295197\n",
       "Q1491746      0.277362\n",
       "Q71798532     0.233981\n",
       "Q67201574     0.225668\n",
       "Q72803622     0.221889\n",
       "Q72802977     0.202996\n",
       "Q67201586     0.173068\n",
       "Q67206701     0.161882\n",
       "Name: entity_id, dtype: float64"
      ]
     },
     "execution_count": 12,
     "metadata": {},
     "output_type": "execute_result"
    }
   ],
   "source": [
    "'''\n",
    "We can see that over 87% of them are just two classes: infrared source (Q67206691) and star (Q523)\n",
    "The following 10 are: \n",
    "- near-IR source (Q67206785), a subclass of infrared source\n",
    "- astronomical radio source (Q1931185) \n",
    "- galaxy (Q318)\n",
    "- high proper-motion star (Q2247863), a subclass of star\n",
    "- double star (Q13890), NOT a subclass of star  \n",
    "- active galactic nucleus (Q46587), a subclass of galaxy      \n",
    "- variable star (Q6243), a subclass of star      \n",
    "- astrophysical X-ray source (Q2154519), NOT a subclass of infrared source \n",
    "- long period variable (Q1153690), a subclass of variable star, which is a subclass of star\n",
    "- quasar (Q83373), a subclass of active galactic nucleus\n",
    "\n",
    "This sums to 94.44% of the deprecated cases, and they are all on the domain of astronomy.\n",
    "'''\n",
    "\n",
    "deprecated_P31_df.groupby('class_entity').count().entity_id.sort_values(ascending=False).head(20)/661591*100\n"
   ]
  },
  {
   "cell_type": "markdown",
   "metadata": {},
   "source": [
    "## All non-deprecated P31 cases"
   ]
  },
  {
   "cell_type": "code",
   "execution_count": 14,
   "metadata": {},
   "outputs": [],
   "source": [
    "cursor.execute(\n",
    "    '''\n",
    "    select *\n",
    "    from claims\n",
    "    where property_id=\"P31\" and claim_rank!=\"deprecated\"\n",
    "    '''\n",
    ")\n",
    "P31_df = pd.DataFrame(cursor.fetchall())\n",
    "P31_df.columns = claims_columns"
   ]
  },
  {
   "cell_type": "code",
   "execution_count": 15,
   "metadata": {},
   "outputs": [],
   "source": [
    "P31_df['class_entity'] = P31_df.apply(\n",
    "        lambda x : convert_datavalue(x['datavalue'], x['datatype']) , axis=1\n",
    ")"
   ]
  },
  {
   "cell_type": "code",
   "execution_count": 17,
   "metadata": {},
   "outputs": [],
   "source": [
    "#P31_df.to_csv('P31_df.csv', index=None)"
   ]
  },
  {
   "cell_type": "markdown",
   "metadata": {},
   "source": [
    "## Counting classes"
   ]
  },
  {
   "cell_type": "code",
   "execution_count": null,
   "metadata": {},
   "outputs": [],
   "source": [
    "P31_df.read_csv('P31_df.csv')\n",
    "\n",
    "class_entity_count = P31_df[['class_entity','entity_id']].groupby('class_entity').count()#.sort_values(ascending=False)\n",
    "class_entity_count.columns = ['count']\n",
    "class_entity_count = class_entity_count.sort_values(by='count', ascending=False).reset_index()"
   ]
  },
  {
   "cell_type": "code",
   "execution_count": 75,
   "metadata": {},
   "outputs": [
    {
     "name": "stdout",
     "output_type": "stream",
     "text": [
      "The 95th percentile is at the 572th row\n"
     ]
    }
   ],
   "source": [
    "# Getting all classes summing up to 95% of the total amount of P31 property uses\n",
    "# This is because we cant use the Wikidata API for ALL of these, so we'll only use for the most prevalent\n",
    "# This also possibly cuts fringe cases and possible wrong usages of entities as classes when they should not\n",
    "\n",
    "total_sum = class_entity_count.sum()['count']\n",
    "thr = 95\n",
    "for i in range(class_entity_count.shape[0]):\n",
    "    partial_sum = class_entity_count.iloc[:i].sum()['count']\n",
    "    if 100*partial_sum/total_sum >= thr:\n",
    "        print('The %dth percentile is at the %dth row' % (thr, i))\n",
    "        break"
   ]
  },
  {
   "cell_type": "code",
   "execution_count": 66,
   "metadata": {},
   "outputs": [],
   "source": [
    "class_entity_count_95th = class_entity_count.loc[:572]\n",
    "wdAPI = wdutils.CachedWikidataAPI()"
   ]
  },
  {
   "cell_type": "code",
   "execution_count": null,
   "metadata": {},
   "outputs": [],
   "source": [
    "class_entity_count_95th['class_entity_label'] = class_entity_count_95th['class_entity'].apply(wdAPI.get_label)"
   ]
  },
  {
   "cell_type": "code",
   "execution_count": 72,
   "metadata": {},
   "outputs": [],
   "source": [
    "class_entity_count_95th.to_csv('class_entity_count_95th.csv', index=None)\n",
    "# This listing was then used to decide on the most numerous classes we could use that are not in WebNLG\n",
    "# We obtain their subclass structure with another notebook: WebNLG_Classes_To_Wikidata_Mapping\n",
    "# This reveals to us all subclasses in the subclass tree of the classes from WebNLG and the ones selected from here"
   ]
  },
  {
   "cell_type": "code",
   "execution_count": null,
   "metadata": {},
   "outputs": [],
   "source": [
    "class_entity_count_95th.head(15)"
   ]
  },
  {
   "cell_type": "markdown",
   "metadata": {},
   "source": [
    "# Creating the mapped dataset\n",
    "---\n",
    "Now that we know which classes to target, and also which subclasses belong to it, we can start creating a list of entity ids that belong to those classes."
   ]
  },
  {
   "cell_type": "code",
   "execution_count": 4,
   "metadata": {},
   "outputs": [],
   "source": [
    "import json\n",
    "import pandas as pd"
   ]
  },
  {
   "cell_type": "code",
   "execution_count": 5,
   "metadata": {},
   "outputs": [],
   "source": [
    "P31_df = pd.read_csv('P31_df.csv')"
   ]
  },
  {
   "cell_type": "code",
   "execution_count": 6,
   "metadata": {},
   "outputs": [],
   "source": [
    "class_entity_count_95th = pd.read_csv('class_entity_count_95th.csv')"
   ]
  },
  {
   "cell_type": "code",
   "execution_count": 7,
   "metadata": {},
   "outputs": [],
   "source": [
    "with open('WebNLG_to_Wikidata_Subclass_Tree_Thr=1000.json','r') as f:\n",
    "    subclass_mapping = json.load(f)"
   ]
  },
  {
   "cell_type": "code",
   "execution_count": 8,
   "metadata": {},
   "outputs": [],
   "source": [
    "def flatten_tree(subtree, flattened_subtree=None, level=0):\n",
    "    if not flattened_subtree:\n",
    "        flattened_subtree = []\n",
    "    if type(subtree['subclasses']) == str:\n",
    "        return flattened_subtree\n",
    "    \n",
    "    if subtree['entity_id'] == subtree['label']:\n",
    "        label = 'NO_LABEL'\n",
    "    else:\n",
    "        label = subtree['label']\n",
    "    \n",
    "    flattened_subtree.append((subtree['entity_id'],label,level))\n",
    "    \n",
    "    if subtree['subclasses'] is None:\n",
    "        pass\n",
    "    else:\n",
    "        for subclass_id, subclass_tree in subtree['subclasses'].items():\n",
    "            flattened_subtree = flatten_tree(subclass_tree, flattened_subtree=flattened_subtree, level=level+1)\n",
    "    return flattened_subtree"
   ]
  },
  {
   "cell_type": "code",
   "execution_count": 9,
   "metadata": {},
   "outputs": [
    {
     "name": "stdout",
     "output_type": "stream",
     "text": [
      "Parsing subclass tree of Airport (Q1248784) and found 26 subclasses.\n",
      "Parsing subclass tree of Astronaut (Q11631) and found 42 subclasses.\n",
      "Parsing subclass tree of Building (Q41176) and found 5622 subclasses.\n",
      "Parsing subclass tree of City (Q515) and found 210 subclasses.\n",
      "Parsing subclass tree of Comicscharacter (Q1114461) and found 17 subclasses.\n",
      "Parsing subclass tree of Food (Q2095) and found 20297 subclasses.\n",
      "Parsing subclass tree of Monument (Q4989906) and found 961 subclasses.\n",
      "Parsing subclass tree of Sportsteam (Q12973014) and found 467 subclasses.\n",
      "Parsing subclass tree of University (Q3918) and found 103 subclasses.\n",
      "Parsing subclass tree of Writtenwork (Q47461344) and found 19465 subclasses.\n",
      "Parsing subclass tree of Athlete (Q2066131) and found 537 subclasses.\n",
      "Parsing subclass tree of Artist (Q483501) and found 1410 subclasses.\n",
      "Parsing subclass tree of Celestialbody (Q6999) and found 1175 subclasses.\n",
      "Parsing subclass tree of Meanoftransportation (Q334166) and found 122 subclasses.\n",
      "Parsing subclass tree of Politician (Q82955) and found 17778 subclasses.\n",
      "Parsing subclass tree of Taxon (Q16521) and found 680 subclasses.\n",
      "Parsing subclass tree of Street (Q79007) and found 81 subclasses.\n",
      "Parsing subclass tree of Painting (Q3305213) and found 169 subclasses.\n",
      "Parsing subclass tree of Chemicalcompound (Q11173) and found 15324 subclasses.\n",
      "Parsing subclass tree of Mountain (Q8502) and found 84 subclasses.\n"
     ]
    }
   ],
   "source": [
    "flat_subclass_mapping = {}\n",
    "for k, v in subclass_mapping.items():\n",
    "    flat_subclass_mapping[k] = flatten_tree(v)\n",
    "    print(\n",
    "        'Parsing subclass tree of',\n",
    "        v['label'],\n",
    "        '('+v['entity_id']+')',\n",
    "        'and found',\n",
    "        len(flat_subclass_mapping[k]),\n",
    "        'subclasses.'\n",
    "    )"
   ]
  },
  {
   "cell_type": "markdown",
   "metadata": {},
   "source": [
    "## Calculate subclass tree overlap"
   ]
  },
  {
   "cell_type": "code",
   "execution_count": 10,
   "metadata": {},
   "outputs": [
    {
     "data": {
      "text/plain": [
       "dict_keys(['Q1248784', 'Q11631', 'Q41176', 'Q515', 'Q1114461', 'Q2095', 'Q4989906', 'Q12973014', 'Q3918', 'Q47461344', 'Q2066131', 'Q483501', 'Q6999', 'Q334166', 'Q82955', 'Q16521', 'Q79007', 'Q3305213', 'Q11173', 'Q8502'])"
      ]
     },
     "execution_count": 10,
     "metadata": {},
     "output_type": "execute_result"
    }
   ],
   "source": [
    "flat_subclass_mapping.keys()"
   ]
  },
  {
   "cell_type": "code",
   "execution_count": 11,
   "metadata": {},
   "outputs": [],
   "source": [
    "import numpy as np\n",
    "\n",
    "subclass_mapping_overlap = np.empty(shape=[len(flat_subclass_mapping),len(flat_subclass_mapping)])"
   ]
  },
  {
   "cell_type": "code",
   "execution_count": 12,
   "metadata": {
    "scrolled": true
   },
   "outputs": [],
   "source": [
    "overlaps = {}\n",
    "for i, k1 in enumerate(flat_subclass_mapping.keys()):\n",
    "    overlaps[k1] = {}\n",
    "    for j, k2 in enumerate(flat_subclass_mapping.keys()):\n",
    "        overlaps[k1][k2] = []\n",
    "        total_size = len(flat_subclass_mapping[k1])\n",
    "        overlap_size = 0\n",
    "        k2_entity_ids = [e[0] for e in flat_subclass_mapping[k2]]\n",
    "        for e in flat_subclass_mapping[k1]:\n",
    "            if e[0] in k2_entity_ids:\n",
    "                overlaps[k1][k2].append(e)\n",
    "                overlap_size+=1\n",
    "        subclass_mapping_overlap[i,j] = overlap_size/total_size"
   ]
  },
  {
   "cell_type": "code",
   "execution_count": 205,
   "metadata": {},
   "outputs": [
    {
     "data": {
      "image/png": "[encoded data removed]",
      "text/plain": [
       "<Figure size 720x360 with 2 Axes>"
      ]
     },
     "metadata": {
      "needs_background": "light"
     },
     "output_type": "display_data"
    }
   ],
   "source": [
    "import seaborn as sns\n",
    "import matplotlib.pyplot as plt\n",
    "fig, ax = plt.subplots(1, 1, figsize=(10,5))\n",
    "labels = [(v[0][1]+'('+v[0][0]+')') for k,v in flat_subclass_mapping.items()]\n",
    "\n",
    "g = sns.heatmap(\n",
    "    subclass_mapping_overlap,\n",
    "    xticklabels = labels,\n",
    "    yticklabels = labels,\n",
    "    ax=ax\n",
    ")\n",
    "\n"
   ]
  },
  {
   "cell_type": "code",
   "execution_count": 15,
   "metadata": {},
   "outputs": [
    {
     "data": {
      "text/plain": [
       "array([0.        , 0.        , 0.02380952, 0.        , 0.        ,\n",
       "       0.        , 0.        , 0.        , 0.        , 0.        ,\n",
       "       0.        , 0.        , 0.        , 0.        , 0.        ,\n",
       "       0.        , 0.        , 0.        , 0.        , 1.        ])"
      ]
     },
     "execution_count": 15,
     "metadata": {},
     "output_type": "execute_result"
    }
   ],
   "source": [
    "subclass_mapping_overlap[19]"
   ]
  },
  {
   "cell_type": "code",
   "execution_count": 14,
   "metadata": {},
   "outputs": [
    {
     "data": {
      "text/plain": [
       "dict_keys(['Q1248784', 'Q11631', 'Q41176', 'Q515', 'Q1114461', 'Q2095', 'Q4989906', 'Q12973014', 'Q3918', 'Q47461344', 'Q2066131', 'Q483501', 'Q6999', 'Q334166', 'Q82955', 'Q16521', 'Q79007', 'Q3305213', 'Q11173', 'Q8502'])"
      ]
     },
     "execution_count": 14,
     "metadata": {},
     "output_type": "execute_result"
    }
   ],
   "source": [
    "overlaps.keys()"
   ]
  },
  {
   "cell_type": "markdown",
   "metadata": {},
   "source": [
    "So we see there is some overlap here:\n",
    "- Airport: Seems to be pretty much contained in Building, but Building is not much present in Airport. This is reasonable, as Airports are Buildings, but not all Buildings (which has 5k subclasses compared to 26 from airport) are Airports. There is no overlap with anything else.\n",
    "- Austronaut: There is a single overlap from Astronaut to Politician, which is the class 'Q4811603', 'Astronaut-Politician'\n",
    "- Buildings: It has a 0.4% overlap to Airports, which makes sense. It also has a 0.1% overlap with city, as some subclasses of buildings also extend city, such as Fortified Town (Q677678). A gingerbread house is both a building and a food (sole example). Buildings also contain a few monuments (0.8% of buildings), like some forts, towers and chapels. Buildings also contain some writtenwork (0.2% of buildings), in the case writtenwork is a program like online marketplaces, which are also buildings in a sense as they are marketplaces which extend commercial building. A hotelbus is both a building and a mode of transport (sole example). Springs like onsens are both buildings and chemical compounds.\n",
    "- Cities overlap minimally with buildings, as seen above.\n",
    "- Comics characters have no overlap.\n",
    "- Food: Pastillage is both food and monument, as it is a sugar sculpture (sole example). Things like magical frogs (due to being magic,occultism,pseudo-scholarship,writtenwork) and protein shakes (due to being a regimen,plan,writtenwork) are written work. RiceNoodleRoll and other regional dishes are also written work because at some point, it is regional cuisine which extends 'aspect in a geographical region' which is a 'Wikimedia overview article', which might be an error or something wrong with how these things are encoded. Some food is taxon, for obvious reason, 0.1%. And some food are chemical compounds, also obvious 0.4%.\n",
    "- Monument: Some monuments 5% are buildings. Some are food (pastillage, see above), some are written work (like runestones and mosaics etc), 2%. And some are paintings (0.3%).\n",
    "- Sportsteam has no overlap.\n",
    "- University has no overlap.\n",
    "- Written work has some overlap, all around 0.1% or lower.\n",
    "- Athlete: overlaps a bit (1%) with artist, like ice dancers, break dancers, etc.\n",
    "- Artist: overlaps with athlete (0.4%), see above.\n",
    "- CelestialBody: Has a single overlap with writtenwork: TelevisionInfraredObservationSatellite, being both a satellite and a space program.\n",
    "- Means of transportation: Hotelbus, a bus hotel (building).\n",
    "- Politician: Some are astronauts. Some overlap with writtenwork (such as Authority, which is a huge overlap we have previously cut due to processing resources).\n",
    "- Taxon is present (34%) in Food. See Food.\n",
    "- Street: Cardo Q1035793 is both street and building, it seems.\n",
    "- Painting: monument, building, written work (6%), see above (all between 0.5-1%).\n",
    "- Chemical Compound: Building (onsens), Food (clearly, like sugars and water), written work (see above).\n",
    "- Mountain: Two entities which are also buildings: 'Q1595289', 'SacredMountain' and 'Q11588709', 'Sintaisan'.\n",
    "\n",
    "Some other overlaps were seen but very minimal, like one class overlapping two trees for very specific or very erronous reasons, like the ones seen above or like Alkaline Water, which is pseudoscience hence writtenwork, but is a chemical compound.\n",
    "\n",
    "The overlaps seen in the list above are almost complete, and most of them are in the 0.01 - 0.5% range, with a few reaching 1%, and two reaching 5-6%. The prominent overlaps are only: Airport fully contained in Building, and Taxon slighly contained in Food.\n",
    "\n",
    "As such, we create the following rules:\n",
    "- An entity can only be a Building (Q41176) if it is not an Airport (Q1248784)\n",
    "- An entity can only be a Food (Q2095) if it is not a Taxon (Q16521).\n",
    "\n",
    "The remaining overlaps do not matter much.\n",
    "The overlapping between Taxon and Food is slight, but we do not worry about it since non-Food taxons tend to be only living being species with a tendency to have specific types of claims, like taxon rank, taxon parent, taxon common name, conservation status, life expectancy, gestation period, mass, etc.\n",
    "\n",
    " "
   ]
  },
  {
   "cell_type": "markdown",
   "metadata": {},
   "source": [
    "## Class lookup function"
   ]
  },
  {
   "cell_type": "code",
   "execution_count": 36,
   "metadata": {},
   "outputs": [
    {
     "data": {
      "text/plain": [
       "dict_keys(['Q1248784', 'Q11631', 'Q41176', 'Q515', 'Q1114461', 'Q2095', 'Q4989906', 'Q12973014', 'Q3918', 'Q47461344', 'Q2066131', 'Q483501', 'Q6999', 'Q334166', 'Q82955', 'Q16521', 'Q79007', 'Q3305213', 'Q11173', 'Q8502'])"
      ]
     },
     "execution_count": 36,
     "metadata": {},
     "output_type": "execute_result"
    }
   ],
   "source": [
    "flat_subclass_mapping.keys()"
   ]
  },
  {
   "cell_type": "code",
   "execution_count": 189,
   "metadata": {},
   "outputs": [],
   "source": [
    "def get_subclass_root(entity_id, flat_subclass_mapping=flat_subclass_mapping, at_level=None):\n",
    "    try:\n",
    "        #pdb.set_trace()\n",
    "        overlapping_cases = {'Q41176':False,'Q1248784':False,'Q2095':False,'Q16521':False}\n",
    "        for k in flat_subclass_mapping.keys():\n",
    "            if at_level:\n",
    "                subclasses_entity_ids = [e[0] for e in flat_subclass_mapping[k] if e[2] == at_level[k]]\n",
    "            else:\n",
    "                subclasses_entity_ids = [e[0] for e in flat_subclass_mapping[k]]\n",
    "            if entity_id in subclasses_entity_ids:\n",
    "                if k not in overlapping_cases.keys():\n",
    "                    return k\n",
    "                else:\n",
    "                    overlapping_cases[k] = True\n",
    "\n",
    "        if overlapping_cases['Q41176'] or overlapping_cases['Q1248784']:\n",
    "            if overlapping_cases['Q1248784']: #Airport\n",
    "                return 'Q1248784' #Airport\n",
    "            else:\n",
    "                return 'Q41176'#Building\n",
    "\n",
    "        if overlapping_cases['Q2095'] or overlapping_cases['Q16521']:\n",
    "            if overlapping_cases['Q16521']: #Taxon\n",
    "                return 'Q16521' #Taxon\n",
    "            else:\n",
    "                return 'Q2095'#Food\n",
    "\n",
    "        return 'NONE'\n",
    "    except ValueError as e:\n",
    "        return 'ERROR: '+str(e)"
   ]
  },
  {
   "cell_type": "code",
   "execution_count": null,
   "metadata": {
    "scrolled": false
   },
   "outputs": [],
   "source": [
    "from collections import Counter\n",
    "for k in flat_subclass_mapping.keys():\n",
    "    print(flat_subclass_mapping[k][0])\n",
    "    print(Counter(map(\n",
    "        lambda x: get_subclass_root(x, flat_subclass_mapping),\n",
    "        [e[0] for e in flat_subclass_mapping[k]]\n",
    "    )))\n",
    "    print()"
   ]
  },
  {
   "cell_type": "markdown",
   "metadata": {},
   "source": [
    "## Getting list of entities in such themes"
   ]
  },
  {
   "cell_type": "markdown",
   "metadata": {},
   "source": [
    "Here, we see how many entities actually are **instance of** any subclass in the subclass tree for the root classes listed here. "
   ]
  },
  {
   "cell_type": "code",
   "execution_count": null,
   "metadata": {},
   "outputs": [],
   "source": [
    "# Import\n",
    "from pandarallel import pandarallel\n",
    "\n",
    "# Initialization\n",
    "pandarallel.initialize(progress_bar=True)"
   ]
  },
  {
   "cell_type": "code",
   "execution_count": null,
   "metadata": {
    "scrolled": true
   },
   "outputs": [],
   "source": [
    "P31_df['root_class'] = P31_df.class_entity.parallel_apply(lambda x : get_subclass_root(x, flat_subclass_mapping))"
   ]
  },
  {
   "cell_type": "code",
   "execution_count": 66,
   "metadata": {},
   "outputs": [],
   "source": [
    "P31_df.to_csv('P31_df.csv', index=None)"
   ]
  },
  {
   "cell_type": "markdown",
   "metadata": {},
   "source": [
    "### Analysing the amounts of entities obtained through subclass trees\n",
    "Specially compared to the sizes and depths of each subclass tree.\n",
    "We look for instances per subclass tree size, and also the number of subclasses in the last level compared to all levels.\n",
    "\n",
    "**NOTE: ALL THE ENTITY COUNTS HERE ARE BASED ON OUR 20% SAMPLE FROM WIKIDATA, NOT ON THE WHOLE THING**"
   ]
  },
  {
   "cell_type": "code",
   "execution_count": 157,
   "metadata": {},
   "outputs": [],
   "source": [
    "import wikidata_utils as wdutils\n",
    "import seaborn as sns\n",
    "wdAPI = wdutils.CachedWikidataAPI()\n",
    "import matplotlib.pyplot as plt"
   ]
  },
  {
   "cell_type": "code",
   "execution_count": 166,
   "metadata": {},
   "outputs": [],
   "source": [
    "root_class_counter = {}\n",
    "for k in flat_subclass_mapping.keys():\n",
    "    P31_df_k = P31_df[P31_df.root_class == k]\n",
    "    root_class_counter[k] =  len(P31_df_k.entity_id.unique())   "
   ]
  },
  {
   "cell_type": "code",
   "execution_count": 311,
   "metadata": {
    "scrolled": false
   },
   "outputs": [
    {
     "name": "stdout",
     "output_type": "stream",
     "text": [
      "Airport has 26 subclasses in its tree and 4982 entities in total. This makes 191.62 instances per subclass.\n",
      "\n",
      "Astronaut has 42 subclasses in its tree and 4 entities in total. This makes 0.1 instances per subclass.\n",
      "\n",
      "Building has 5622 subclasses in its tree and 379879 entities in total. This makes 67.57 instances per subclass.\n",
      "\n",
      "City has 210 subclasses in its tree and 5632 entities in total. This makes 26.82 instances per subclass.\n",
      "\n",
      "Comicscharacter has 17 subclasses in its tree and 1913 entities in total. This makes 112.53 instances per subclass.\n",
      "\n",
      "Food has 20297 subclasses in its tree and 2693 entities in total. This makes 0.13 instances per subclass.\n",
      "\n",
      "Monument has 961 subclasses in its tree and 73057 entities in total. This makes 76.02 instances per subclass.\n",
      "\n",
      "Sportsteam has 467 subclasses in its tree and 10859 entities in total. This makes 23.25 instances per subclass.\n",
      "\n",
      "University has 103 subclasses in its tree and 3355 entities in total. This makes 32.57 instances per subclass.\n",
      "\n",
      "Writtenwork has 19465 subclasses in its tree and 9797724 entities in total. This makes 503.35 instances per subclass.\n",
      "\n",
      "Athlete has 537 subclasses in its tree and 10 entities in total. This makes 0.02 instances per subclass.\n",
      "\n",
      "Artist has 1410 subclasses in its tree and 71 entities in total. This makes 0.05 instances per subclass.\n",
      "\n",
      "Celestialbody has 1175 subclasses in its tree and 1682609 entities in total. This makes 1432.01 instances per subclass.\n",
      "\n",
      "Meanoftransportation has 122 subclasses in its tree and 1665 entities in total. This makes 13.65 instances per subclass.\n",
      "\n",
      "Politician has 17778 subclasses in its tree and 219 entities in total. This makes 0.01 instances per subclass.\n",
      "\n",
      "Taxon has 680 subclasses in its tree and 640050 entities in total. This makes 941.25 instances per subclass.\n",
      "\n",
      "Street has 81 subclasses in its tree and 117003 entities in total. This makes 1444.48 instances per subclass.\n",
      "\n",
      "Painting has 169 subclasses in its tree and 109460 entities in total. This makes 647.69 instances per subclass.\n",
      "\n",
      "Chemicalcompound has 15324 subclasses in its tree and 265464 entities in total. This makes 17.32 instances per subclass.\n",
      "\n",
      "Mountain has 84 subclasses in its tree and 105615 entities in total. This makes 1257.32 instances per subclass.\n",
      "\n"
     ]
    }
   ],
   "source": [
    "subclass_instance_rate = []\n",
    "for k,v in root_class_counter.items():\n",
    "    if k == 'NONE':\n",
    "        continue\n",
    "    print(\n",
    "        flat_subclass_mapping[k][0][1],\n",
    "        'has', len(flat_subclass_mapping[k]),'subclasses in its tree and',\n",
    "        root_class_counter[k], 'entities in total. This makes',\n",
    "        round(root_class_counter[k]/len(flat_subclass_mapping[k]),2),'instances per subclass.\\n'\n",
    "    )\n",
    "    subclass_instance_rate.append({\n",
    "        'name': flat_subclass_mapping[k][0][1] + '(' + k + ')',\n",
    "        'n_entities': root_class_counter[k],\n",
    "        'n_subclasses': len(flat_subclass_mapping[k]),\n",
    "        'subclass_entity_ratio': round(root_class_counter[k]/len(flat_subclass_mapping[k]),2)\n",
    "    })"
   ]
  },
  {
   "cell_type": "code",
   "execution_count": 216,
   "metadata": {},
   "outputs": [
    {
     "data": {
      "image/png": "[encoded data removed]",
      "text/plain": [
       "<Figure size 1440x288 with 3 Axes>"
      ]
     },
     "metadata": {
      "needs_background": "light"
     },
     "output_type": "display_data"
    }
   ],
   "source": [
    "fig, ax = plt.subplots(1,3,figsize=(20,4))\n",
    "\n",
    "subclass_instance_rate_df = pd.DataFrame(subclass_instance_rate)\n",
    "g = sns.barplot(\n",
    "    data=subclass_instance_rate_df.sort_values('n_entities'),\n",
    "    x='name',\n",
    "    y ='n_entities',\n",
    "    ax=ax[0]\n",
    ")\n",
    "ax[0].set_xticklabels(ax[0].get_xticklabels(), rotation=90, ha='right')\n",
    "\n",
    "g = sns.barplot(\n",
    "    data=subclass_instance_rate_df.sort_values('n_subclasses'),\n",
    "    x='name',\n",
    "    y ='n_subclasses',\n",
    "    ax=ax[1]\n",
    ")\n",
    "\n",
    "ax[1].set_xticklabels(ax[1].get_xticklabels(), rotation=90, ha='right')\n",
    "\n",
    "g = sns.barplot(\n",
    "    data=subclass_instance_rate_df.sort_values('subclass_entity_ratio'),\n",
    "    x='name',\n",
    "    y ='subclass_entity_ratio',\n",
    "    ax=ax[2]\n",
    ")\n",
    "\n",
    "ax[2].set_xticklabels(ax[2].get_xticklabels(), rotation=90, ha='right')\n",
    "\n",
    "plt.show()"
   ]
  },
  {
   "cell_type": "code",
   "execution_count": 229,
   "metadata": {
    "scrolled": true
   },
   "outputs": [
    {
     "data": {
      "text/plain": [
       "{'Q1248784': 2,\n",
       " 'Q11631': 2,\n",
       " 'Q41176': 9,\n",
       " 'Q515': 5,\n",
       " 'Q1114461': 2,\n",
       " 'Q2095': 10,\n",
       " 'Q4989906': 7,\n",
       " 'Q12973014': 5,\n",
       " 'Q3918': 3,\n",
       " 'Q47461344': 17,\n",
       " 'Q2066131': 5,\n",
       " 'Q483501': 7,\n",
       " 'Q6999': 6,\n",
       " 'Q334166': 5,\n",
       " 'Q82955': 8,\n",
       " 'Q16521': 5,\n",
       " 'Q79007': 3,\n",
       " 'Q3305213': 4,\n",
       " 'Q11173': 13,\n",
       " 'Q8502': 3}"
      ]
     },
     "execution_count": 229,
     "metadata": {},
     "output_type": "execute_result"
    }
   ],
   "source": [
    "max_levels = {k:max([i[2] for i in v]) for k,v in flat_subclass_mapping.items()}\n",
    "max_levels"
   ]
  },
  {
   "cell_type": "markdown",
   "metadata": {},
   "source": [
    "### Resolving the issue of low-entity themes"
   ]
  },
  {
   "cell_type": "markdown",
   "metadata": {},
   "source": [
    "- Celestialbody has 1175 subclasses in its tree and 1691976 entities in total. This makes 1439.98 instances per subclass.\n",
    "\n",
    "- City has 210 subclasses in its tree and 6650 entities in total. This makes 31.67 instances per subclass.\n",
    "\n",
    "- Building has 5622 subclasses in its tree and 403263 entities in total. This makes 71.73 instances per subclass.\n",
    "\n",
    "- Writtenwork has 19465 subclasses in its tree and 10412520 entities in total. This makes 534.94 instances per subclass.\n",
    "\n",
    "- Sportsteam has 467 subclasses in its tree and 11171 entities in total. This makes 23.92 instances per subclass.\n",
    "\n",
    "- University has 103 subclasses in its tree and 3503 entities in total. This makes 34.01 instances per subclass.\n",
    "\n",
    "- Taxon has 680 subclasses in its tree and 664731 entities in total. This makes 977.55 instances per subclass.\n",
    "\n",
    "- Food has 20297 subclasses in its tree and 2880 entities in total. This makes **0.14** instances per subclass.\n",
    "\n",
    "- Street has 81 subclasses in its tree and 117467 entities in total. This makes 1450.21 instances per subclass.\n",
    "\n",
    "- Airport has 26 subclasses in its tree and 5171 entities in total. This makes 198.88 instances per subclass.\n",
    "\n",
    "- Mountain has 84 subclasses in its tree and 105767 entities in total. This makes 1259.13 instances per subclass.\n",
    "\n",
    "- Chemicalcompound has 15324 subclasses in its tree and 267865 entities in total. This makes 17.48 instances per subclass.\n",
    "\n",
    "- Painting has 169 subclasses in its tree and 109732 entities in total. This makes 649.3 instances per subclass.\n",
    "\n",
    "- Comicscharacter has 17 subclasses in its tree and 1964 entities in total. This makes 115.53 instances per subclass.\n",
    "\n",
    "- Monument has 961 subclasses in its tree and 75408 entities in total. This makes 78.47 instances per subclass.\n",
    "\n",
    "- Meanoftransportation has 122 subclasses in its tree and 1666 entities in total. This makes 13.66 instances per subclass.\n",
    "\n",
    "- Artist has 1410 subclasses in its tree and 72 entities in total. This makes **0.05** instances per subclass.\n",
    "\n",
    "- Politician has 17778 subclasses in its tree and 223 entities in total. This makes **0.01** instances per subclass.\n",
    "\n",
    "- Athlete has 537 subclasses in its tree and 10 entities in total. This makes **0.02** instances per subclass.\n",
    "\n",
    "- Astronaut has 42 subclasses in its tree and 4 entities in total. This makes **0.1** instances per subclass.\n",
    "\n",
    "**NOTE: ALL THE ENTITY COUNTS HERE ARE BASED ON OUR 20% SAMPLE FROM WIKIDATA, NOT ON THE WHOLE THING**"
   ]
  },
  {
   "cell_type": "markdown",
   "metadata": {},
   "source": [
    "This tells us that for some classes, namely Food, Artist, Politician, Athlete and Astronaut, looking at instance-of (P31) will not be a good way to gather entities from those themes.\n",
    "\n",
    "Excluding them, the minimum amount of entities we find is 1666, which sets the lowest number of entities (and if we manage to take one claim per entity, of claims) that we can find per theme. Including them, this goes down to a whopping 4.\n",
    "\n",
    "For the Food class, we know the issue is with not many instances of food existing, which means we will have to **take information from the classes** in the tree. This approach could also be taken with Taxon entities, but most Taxons either just instance Taxon or both instance **and** extend Taxon (are both an instance and a subclass, like Hebra Q30132039). This means that, for Food, we go from the 2880 instances to the 20297 classes as potental sources of claim information.\n",
    "\n",
    "For the Artist, Politician, Athlete and Astronaut classes, and in accordance to Ontoclean, it makes sense for entities to not instanciate these classes, but to refer to it through qualified predicates. This is because a politician is not intrinsically a politician, but a person who happens to be occupied in a politician position (which might be temporary, hence the need for qualifiers). So we will look for these through the occupation/profession predicates. For this, we will **look for entities whose occupation (P106) predicates link to one of the subclasses in this tree**. "
   ]
  },
  {
   "cell_type": "markdown",
   "metadata": {},
   "source": [
    "#### Professions/Occupations"
   ]
  },
  {
   "cell_type": "code",
   "execution_count": 236,
   "metadata": {},
   "outputs": [],
   "source": [
    "cursor.execute(\n",
    "    '''\n",
    "    select *\n",
    "    from claims\n",
    "    where property_id=\"P106\" and claim_rank!=\"deprecated\"\n",
    "    '''\n",
    ")\n",
    "P106_df = pd.DataFrame(cursor.fetchall())\n",
    "P106_df.columns = claims_columns"
   ]
  },
  {
   "cell_type": "code",
   "execution_count": 238,
   "metadata": {},
   "outputs": [],
   "source": [
    "P106_df['object_entity'] = P106_df.apply(\n",
    "        lambda x : convert_datavalue(x['datavalue'], x['datatype']) , axis=1\n",
    ")"
   ]
  },
  {
   "cell_type": "code",
   "execution_count": 239,
   "metadata": {},
   "outputs": [
    {
     "data": {
      "text/html": [
       "<div>\n",
       "<style scoped>\n",
       "    .dataframe tbody tr th:only-of-type {\n",
       "        vertical-align: middle;\n",
       "    }\n",
       "\n",
       "    .dataframe tbody tr th {\n",
       "        vertical-align: top;\n",
       "    }\n",
       "\n",
       "    .dataframe thead th {\n",
       "        text-align: right;\n",
       "    }\n",
       "</style>\n",
       "<table border=\"1\" class=\"dataframe\">\n",
       "  <thead>\n",
       "    <tr style=\"text-align: right;\">\n",
       "      <th></th>\n",
       "      <th>entity_id</th>\n",
       "      <th>claim_id</th>\n",
       "      <th>rank</th>\n",
       "      <th>property_id</th>\n",
       "      <th>datatype</th>\n",
       "      <th>datavalue</th>\n",
       "      <th>object_entity</th>\n",
       "    </tr>\n",
       "  </thead>\n",
       "  <tbody>\n",
       "    <tr>\n",
       "      <th>0</th>\n",
       "      <td>Q23</td>\n",
       "      <td>q23$7F1176DF-B1EF-4B9D-9249-993D14D9AC4D</td>\n",
       "      <td>preferred</td>\n",
       "      <td>P106</td>\n",
       "      <td>wikibase-item</td>\n",
       "      <td>{'value': {'entity-type': 'item', 'numeric-id'...</td>\n",
       "      <td>Q82955</td>\n",
       "    </tr>\n",
       "    <tr>\n",
       "      <th>1</th>\n",
       "      <td>Q23</td>\n",
       "      <td>q23$212B925B-881F-4778-A2B5-302C9FBD9A41</td>\n",
       "      <td>normal</td>\n",
       "      <td>P106</td>\n",
       "      <td>wikibase-item</td>\n",
       "      <td>{'value': {'entity-type': 'item', 'numeric-id'...</td>\n",
       "      <td>Q189290</td>\n",
       "    </tr>\n",
       "    <tr>\n",
       "      <th>2</th>\n",
       "      <td>Q23</td>\n",
       "      <td>Q23$7891ba2b-454a-b218-e48c-f08f1f8ce76d</td>\n",
       "      <td>normal</td>\n",
       "      <td>P106</td>\n",
       "      <td>wikibase-item</td>\n",
       "      <td>{'value': {'entity-type': 'item', 'numeric-id'...</td>\n",
       "      <td>Q131512</td>\n",
       "    </tr>\n",
       "    <tr>\n",
       "      <th>3</th>\n",
       "      <td>Q23</td>\n",
       "      <td>Q23$3AE23BD2-7CDE-4B11-99D3-FA7133DE422D</td>\n",
       "      <td>normal</td>\n",
       "      <td>P106</td>\n",
       "      <td>wikibase-item</td>\n",
       "      <td>{'value': {'entity-type': 'item', 'numeric-id'...</td>\n",
       "      <td>Q1734662</td>\n",
       "    </tr>\n",
       "    <tr>\n",
       "      <th>4</th>\n",
       "      <td>Q23</td>\n",
       "      <td>Q23$4240dd5c-4f0a-4763-01e9-60179aed55fe</td>\n",
       "      <td>normal</td>\n",
       "      <td>P106</td>\n",
       "      <td>wikibase-item</td>\n",
       "      <td>{'value': {'entity-type': 'item', 'numeric-id'...</td>\n",
       "      <td>Q294126</td>\n",
       "    </tr>\n",
       "    <tr>\n",
       "      <th>...</th>\n",
       "      <td>...</td>\n",
       "      <td>...</td>\n",
       "      <td>...</td>\n",
       "      <td>...</td>\n",
       "      <td>...</td>\n",
       "      <td>...</td>\n",
       "      <td>...</td>\n",
       "    </tr>\n",
       "    <tr>\n",
       "      <th>1700597</th>\n",
       "      <td>Q107161748</td>\n",
       "      <td>Q107161748$3BC85D63-5295-4F2B-AA72-C4FEC10580FF</td>\n",
       "      <td>normal</td>\n",
       "      <td>P106</td>\n",
       "      <td>wikibase-item</td>\n",
       "      <td>{'value': {'entity-type': 'item', 'numeric-id'...</td>\n",
       "      <td>Q82955</td>\n",
       "    </tr>\n",
       "    <tr>\n",
       "      <th>1700598</th>\n",
       "      <td>Q107161748</td>\n",
       "      <td>Q107161748$f708baef-4c9a-8bf6-4e93-12e4f18dccd8</td>\n",
       "      <td>normal</td>\n",
       "      <td>P106</td>\n",
       "      <td>wikibase-item</td>\n",
       "      <td>{'value': {'entity-type': 'item', 'numeric-id'...</td>\n",
       "      <td>Q3315492</td>\n",
       "    </tr>\n",
       "    <tr>\n",
       "      <th>1700599</th>\n",
       "      <td>Q107161750</td>\n",
       "      <td>Q107161750$7086DA9F-9A4F-46D2-957C-C615FB33BCC9</td>\n",
       "      <td>normal</td>\n",
       "      <td>P106</td>\n",
       "      <td>wikibase-item</td>\n",
       "      <td>{'value': {'entity-type': 'item', 'numeric-id'...</td>\n",
       "      <td>Q82955</td>\n",
       "    </tr>\n",
       "    <tr>\n",
       "      <th>1700600</th>\n",
       "      <td>Q107161753</td>\n",
       "      <td>Q107161753$30C71055-594D-4D57-8074-FD07026DE6DA</td>\n",
       "      <td>normal</td>\n",
       "      <td>P106</td>\n",
       "      <td>wikibase-item</td>\n",
       "      <td>{'value': {'entity-type': 'item', 'numeric-id'...</td>\n",
       "      <td>Q82955</td>\n",
       "    </tr>\n",
       "    <tr>\n",
       "      <th>1700601</th>\n",
       "      <td>Q107161758</td>\n",
       "      <td>Q107161758$7804E89E-391A-42D9-AFE2-79D8F4293414</td>\n",
       "      <td>normal</td>\n",
       "      <td>P106</td>\n",
       "      <td>wikibase-item</td>\n",
       "      <td>{'value': {'entity-type': 'item', 'numeric-id'...</td>\n",
       "      <td>Q82955</td>\n",
       "    </tr>\n",
       "  </tbody>\n",
       "</table>\n",
       "<p>1700602 rows × 7 columns</p>\n",
       "</div>"
      ],
      "text/plain": [
       "          entity_id                                         claim_id  \\\n",
       "0               Q23         q23$7F1176DF-B1EF-4B9D-9249-993D14D9AC4D   \n",
       "1               Q23         q23$212B925B-881F-4778-A2B5-302C9FBD9A41   \n",
       "2               Q23         Q23$7891ba2b-454a-b218-e48c-f08f1f8ce76d   \n",
       "3               Q23         Q23$3AE23BD2-7CDE-4B11-99D3-FA7133DE422D   \n",
       "4               Q23         Q23$4240dd5c-4f0a-4763-01e9-60179aed55fe   \n",
       "...             ...                                              ...   \n",
       "1700597  Q107161748  Q107161748$3BC85D63-5295-4F2B-AA72-C4FEC10580FF   \n",
       "1700598  Q107161748  Q107161748$f708baef-4c9a-8bf6-4e93-12e4f18dccd8   \n",
       "1700599  Q107161750  Q107161750$7086DA9F-9A4F-46D2-957C-C615FB33BCC9   \n",
       "1700600  Q107161753  Q107161753$30C71055-594D-4D57-8074-FD07026DE6DA   \n",
       "1700601  Q107161758  Q107161758$7804E89E-391A-42D9-AFE2-79D8F4293414   \n",
       "\n",
       "              rank property_id       datatype  \\\n",
       "0        preferred        P106  wikibase-item   \n",
       "1           normal        P106  wikibase-item   \n",
       "2           normal        P106  wikibase-item   \n",
       "3           normal        P106  wikibase-item   \n",
       "4           normal        P106  wikibase-item   \n",
       "...            ...         ...            ...   \n",
       "1700597     normal        P106  wikibase-item   \n",
       "1700598     normal        P106  wikibase-item   \n",
       "1700599     normal        P106  wikibase-item   \n",
       "1700600     normal        P106  wikibase-item   \n",
       "1700601     normal        P106  wikibase-item   \n",
       "\n",
       "                                                 datavalue object_entity  \n",
       "0        {'value': {'entity-type': 'item', 'numeric-id'...        Q82955  \n",
       "1        {'value': {'entity-type': 'item', 'numeric-id'...       Q189290  \n",
       "2        {'value': {'entity-type': 'item', 'numeric-id'...       Q131512  \n",
       "3        {'value': {'entity-type': 'item', 'numeric-id'...      Q1734662  \n",
       "4        {'value': {'entity-type': 'item', 'numeric-id'...       Q294126  \n",
       "...                                                    ...           ...  \n",
       "1700597  {'value': {'entity-type': 'item', 'numeric-id'...        Q82955  \n",
       "1700598  {'value': {'entity-type': 'item', 'numeric-id'...      Q3315492  \n",
       "1700599  {'value': {'entity-type': 'item', 'numeric-id'...        Q82955  \n",
       "1700600  {'value': {'entity-type': 'item', 'numeric-id'...        Q82955  \n",
       "1700601  {'value': {'entity-type': 'item', 'numeric-id'...        Q82955  \n",
       "\n",
       "[1700602 rows x 7 columns]"
      ]
     },
     "execution_count": 239,
     "metadata": {},
     "output_type": "execute_result"
    }
   ],
   "source": [
    "P106_df"
   ]
  },
  {
   "cell_type": "code",
   "execution_count": 290,
   "metadata": {},
   "outputs": [
    {
     "name": "stdout",
     "output_type": "stream",
     "text": [
      "Theme Astronaut has number of entities: 190\n",
      "Theme Athlete has number of entities: 207422\n",
      "Theme Artist has number of entities: 248648\n",
      "Theme Politician has number of entities: 141497\n"
     ]
    }
   ],
   "source": [
    "profession_themes = ['Q11631', 'Q2066131', 'Q483501', 'Q82955']\n",
    "\n",
    "# Total in our sample:\n",
    "in_profession_entities = {}\n",
    "for profession in profession_themes:\n",
    "    in_profession_entities[profession] = set()\n",
    "    #print('Gathering',flat_subclass_mapping[profession][0][1],'profession.')\n",
    "    for subclass in flat_subclass_mapping[profession]:\n",
    "        subclass_id = subclass[0]\n",
    "        in_profession_entities[profession].update(P106_df[P106_df.object_entity == subclass_id].entity_id)\n",
    "    print(\n",
    "        'Theme',\n",
    "        flat_subclass_mapping[profession][0][1],\n",
    "        'has number of entities:',\n",
    "        len(in_profession_entities[profession])\n",
    "    )\n"
   ]
  },
  {
   "cell_type": "code",
   "execution_count": 250,
   "metadata": {},
   "outputs": [],
   "source": [
    "import pickle\n",
    "with open('in_profession_entities.p','wb') as f:\n",
    "    pickle.dump(in_profession_entities, f)"
   ]
  },
  {
   "cell_type": "markdown",
   "metadata": {},
   "source": [
    "This increases our Astronaut count from 4 to 190 (which is 20% of the over 870 in Wikidata). It makes sense for this to be a more restricted group. We then have many more Athletes (207422 against 10), Artists (248648 against 72) and Politician (141497 against 223). It would be interesting to know what types of entities we got from the instance-of route, and see if they can be used as in addition to these from the occupation route."
   ]
  },
  {
   "cell_type": "code",
   "execution_count": 282,
   "metadata": {},
   "outputs": [
    {
     "name": "stdout",
     "output_type": "stream",
     "text": [
      "Samples from Astronaut using instance-of route:\n",
      "['Q210184' 'Q98859881' 'Q49819' 'Q17189861']\n",
      "Samples from Athlete using instance-of route:\n",
      "['Q97681048' 'Q97680424' 'Q86919324' 'Q97680380' 'Q65467391' 'Q106978684'\n",
      " 'Q97680788' 'Q11442596' 'Q65467154' 'Q60649957']\n",
      "Samples from Artist using instance-of route:\n",
      "['Q64759358' 'Q104787869' 'Q106419065' 'Q85961988' 'Q11224956' 'Q6785309'\n",
      " 'Q60152537' 'Q106712985' 'Q105089922' 'Q105722121']\n",
      "Samples from Politician using instance-of route:\n",
      "['Q5781602' 'Q703390' 'Q11929798' 'Q20018881' 'Q24942143' 'Q5782255'\n",
      " 'Q5781888' 'Q100271063' 'Q56101828' 'Q5781371']\n"
     ]
    }
   ],
   "source": [
    "import random\n",
    "random.seed(42)\n",
    "for profession in profession_themes:\n",
    "    print('Samples from',flat_subclass_mapping[profession][0][1],'using instance-of route:')\n",
    "    sample_from = P31_df[P31_df.root_class == profession].entity_id\n",
    "    print(sample_from.sample(min(10,sample_from.shape[0])).values)"
   ]
  },
  {
   "cell_type": "markdown",
   "metadata": {},
   "source": [
    "For Astronaut:\n",
    "\n",
    "    We look at all 4 entities. They either also have Astronaut as occupation or are fictional characters.\n",
    "    \n",
    "For Athlete:\n",
    "\n",
    "    We looked at all 10 entities. 4 of them are sailors (sailing) with only a single label in Spanish and a Google Knowledge Graph ID predicate, and 2 martial artists with very few labels and the same GKG ID, which seems to indicate niche utilisation by some project. Others were either very specific entities (like two horsemen of the apocalypse) or just entities which directly instance an athlete profession but have very few other claims.  \n",
    "\n",
    "For Artist:\n",
    "    \n",
    "    We sampled 10 entities from 72. 2 of them both instantiate AND have profession to an artist subclass. 1 of them is an anonymous pseudonym which is a subclass of artist, but does not have occupation because it is not a person per se. 3 were entities with very few labels, instance of an astist subclass, and none to almost none claims. The rest were entities making wrong use of artist subclasses. 1 was a musical group, which makes sense. 2 were video game developer studios, whose position in Artist is somewhat disputable for the meaning of artist we are after (a single game developer would be ok, but a studio is a company).\n",
    "    \n",
    "For Politician:\n",
    "\n",
    "    We sampled 10 entities from 223. 9 were entities with very few labels and none to almost no claims apart from GKG ID or Freebase ID, 5 of which were condes in Spain. 1 had both instance of and occupation.\n",
    "    \n",
    "The quality of these examples, compared to the amount of entities we were able to obtain through the occupation route, leads us to believe it would be preferrable to take only from the occupation route."
   ]
  },
  {
   "cell_type": "markdown",
   "metadata": {},
   "source": [
    "### Getting final list of entities in each theme\n",
    "\n",
    "- For non-food and non-profession themes, we will obtain through P31 root class.\n",
    "- For the food theme, we will obtain through the subclass tree itself.\n",
    "- For the profession themes, we will obtain through the occupation predicate."
   ]
  },
  {
   "cell_type": "code",
   "execution_count": 298,
   "metadata": {},
   "outputs": [],
   "source": [
    "final_entity_list = {}"
   ]
  },
  {
   "cell_type": "code",
   "execution_count": 300,
   "metadata": {},
   "outputs": [
    {
     "name": "stdout",
     "output_type": "stream",
     "text": [
      "Loading Airport theme.\n",
      "Loading Building theme.\n",
      "Loading City theme.\n",
      "Loading Comicscharacter theme.\n",
      "Loading Monument theme.\n",
      "Loading Sportsteam theme.\n",
      "Loading University theme.\n",
      "Loading Writtenwork theme.\n",
      "Loading Celestialbody theme.\n",
      "Loading Meanoftransportation theme.\n",
      "Loading Taxon theme.\n",
      "Loading Street theme.\n",
      "Loading Painting theme.\n",
      "Loading Chemicalcompound theme.\n",
      "Loading Mountain theme.\n"
     ]
    }
   ],
   "source": [
    "# NON-FOOD AND NON-PROFESSION THEMES\n",
    "P31_themes = ['Q1248784', 'Q41176', 'Q515', 'Q1114461', 'Q4989906', 'Q12973014',\n",
    "              'Q3918', 'Q47461344', 'Q6999', 'Q334166', 'Q16521',\n",
    "              'Q79007', 'Q3305213', 'Q11173', 'Q8502']\n",
    "\n",
    "for theme in P31_themes:\n",
    "    print('Loading',flat_subclass_mapping[theme][0][1],'theme.')\n",
    "    final_entity_list[theme] = set()\n",
    "    final_entity_list[theme].update(P31_df[P31_df.root_class == theme].entity_id.values)"
   ]
  },
  {
   "cell_type": "code",
   "execution_count": 303,
   "metadata": {},
   "outputs": [],
   "source": [
    "# PROFESSION THEMES\n",
    "for theme in profession_themes:\n",
    "    final_entity_list[theme] = in_profession_entities[theme]"
   ]
  },
  {
   "cell_type": "code",
   "execution_count": 307,
   "metadata": {},
   "outputs": [],
   "source": [
    "# FOOD THEME\n",
    "final_entity_list['Q2095'] = set()\n",
    "final_entity_list['Q2095'].update([e[0] for e in flat_subclass_mapping['Q2095']])"
   ]
  },
  {
   "cell_type": "code",
   "execution_count": 312,
   "metadata": {},
   "outputs": [
    {
     "name": "stdout",
     "output_type": "stream",
     "text": [
      "Theme Airport has 4982 entities.\n",
      "Theme Astronaut has 190 entities.\n",
      "Theme Building has 379879 entities.\n",
      "Theme City has 5632 entities.\n",
      "Theme Comicscharacter has 1913 entities.\n",
      "Theme Food has 20297 entities.\n",
      "Theme Monument has 73057 entities.\n",
      "Theme Sportsteam has 10859 entities.\n",
      "Theme University has 3355 entities.\n",
      "Theme Writtenwork has 9797724 entities.\n",
      "Theme Athlete has 207422 entities.\n",
      "Theme Artist has 248648 entities.\n",
      "Theme Celestialbody has 1682609 entities.\n",
      "Theme Meanoftransportation has 1665 entities.\n",
      "Theme Politician has 141497 entities.\n",
      "Theme Taxon has 640050 entities.\n",
      "Theme Street has 117003 entities.\n",
      "Theme Painting has 109460 entities.\n",
      "Theme Chemicalcompound has 265464 entities.\n",
      "Theme Mountain has 105615 entities.\n"
     ]
    }
   ],
   "source": [
    "for theme in flat_subclass_mapping:\n",
    "    print('Theme',flat_subclass_mapping[theme][0][1], 'has', len(final_entity_list[theme]), 'entities.')\n",
    "    \n",
    "with open('final_entity_list.p','wb') as f:\n",
    "    pickle.dump(final_entity_list, f)"
   ]
  }
 ],
 "metadata": {
  "kernelspec": {
   "display_name": "Python 3",
   "language": "python",
   "name": "python3"
  },
  "language_info": {
   "codemirror_mode": {
    "name": "ipython",
    "version": 3
   },
   "file_extension": ".py",
   "mimetype": "text/x-python",
   "name": "python",
   "nbconvert_exporter": "python",
   "pygments_lexer": "ipython3",
   "version": "3.7.6"
  }
 },
 "nbformat": 4,
 "nbformat_minor": 4
}
